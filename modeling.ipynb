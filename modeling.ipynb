{
  "cells": [
    {
      "cell_type": "code",
      "source": [
        "from google.colab import drive\n",
        "drive.mount('/content/drive')"
      ],
      "metadata": {
        "colab": {
          "base_uri": "https://localhost:8080/"
        },
        "id": "jzOnVJLd_JiJ",
        "outputId": "4f1a40f8-f088-453d-f0b7-b58728f7c6f4"
      },
      "execution_count": 1,
      "outputs": [
        {
          "output_type": "stream",
          "name": "stdout",
          "text": [
            "Mounted at /content/drive\n"
          ]
        }
      ]
    },
    {
      "cell_type": "code",
      "execution_count": 1,
      "metadata": {
        "id": "5H9gvYjEDnwq"
      },
      "outputs": [],
      "source": [
        "import pandas as pd\n",
        "import os"
      ]
    },
    {
      "cell_type": "code",
      "source": [
        "file_path = '/content/drive/My Drive/final_cloth_img.csv'"
      ],
      "metadata": {
        "id": "hCfts0EZ_M9s"
      },
      "execution_count": 2,
      "outputs": []
    },
    {
      "cell_type": "code",
      "execution_count": 3,
      "metadata": {
        "id": "cK7-6OziLeIr"
      },
      "outputs": [],
      "source": [
        "#file_path = os.path.join('.','final_cloth_img.csv')"
      ]
    },
    {
      "cell_type": "code",
      "execution_count": 4,
      "metadata": {
        "id": "znDuMIJnDDhP"
      },
      "outputs": [],
      "source": [
        "#cloth_img=pd.read_csv(file_path)"
      ]
    },
    {
      "cell_type": "code",
      "source": [],
      "metadata": {
        "id": "M-GoXZ4eOXGB"
      },
      "execution_count": 4,
      "outputs": []
    },
    {
      "cell_type": "code",
      "source": [],
      "metadata": {
        "id": "498F4h6pOXXd"
      },
      "execution_count": 4,
      "outputs": []
    },
    {
      "cell_type": "code",
      "source": [
        "file_path = '/content/drive/My Drive/final_footwear_img.csv'\n"
      ],
      "metadata": {
        "id": "iuuqF2Mz_RDk"
      },
      "execution_count": 5,
      "outputs": []
    },
    {
      "cell_type": "code",
      "source": [
        "footwear_img=pd.read_csv(file_path)"
      ],
      "metadata": {
        "id": "8wpj0YRT_VB4"
      },
      "execution_count": 6,
      "outputs": []
    },
    {
      "cell_type": "code",
      "execution_count": 7,
      "metadata": {
        "id": "oFL_6qKQLnRx"
      },
      "outputs": [],
      "source": [
        "\n",
        "# footwear_img=pd.read_csv('final_footwear_img.csv')"
      ]
    },
    {
      "cell_type": "code",
      "execution_count": 8,
      "metadata": {
        "id": "E9dd3xSlYTC8"
      },
      "outputs": [],
      "source": [
        "#folder_path=os.path.join('.','images')"
      ]
    },
    {
      "cell_type": "code",
      "source": [
        "folder_path='/content/drive/My Drive/images'"
      ],
      "metadata": {
        "id": "Zgq94WAi_YA1"
      },
      "execution_count": 9,
      "outputs": []
    },
    {
      "cell_type": "code",
      "execution_count": 10,
      "metadata": {
        "id": "_h50ydpbUHiO"
      },
      "outputs": [],
      "source": [
        "#imgs_df=pd.concat([cloth_img,footwear_img],ignore_index=True)"
      ]
    },
    {
      "cell_type": "code",
      "source": [
        "imgs_df=footwear_img"
      ],
      "metadata": {
        "id": "GpYY_C-hKBf0"
      },
      "execution_count": 11,
      "outputs": []
    },
    {
      "cell_type": "code",
      "execution_count": 12,
      "metadata": {
        "colab": {
          "base_uri": "https://localhost:8080/",
          "height": 423
        },
        "id": "8Wcuz9_kUR86",
        "outputId": "aa5175f4-38c1-4fb5-f80d-bc0da0d31d4e"
      },
      "outputs": [
        {
          "output_type": "execute_result",
          "data": {
            "text/plain": [
              "        id masterCategory subCategory   articleType   filename\n",
              "0    15738       Footwear  Flip Flops    Flip Flops  15738.jpg\n",
              "1    17651       Footwear  Flip Flops    Flip Flops  17651.jpg\n",
              "2    44209       Footwear  Flip Flops    Flip Flops  44209.jpg\n",
              "3    15387       Footwear  Flip Flops    Flip Flops  15387.jpg\n",
              "4    21202       Footwear  Flip Flops    Flip Flops  21202.jpg\n",
              "..     ...            ...         ...           ...        ...\n",
              "342   1786       Footwear       Shoes  Sports Shoes   1786.jpg\n",
              "343  15719       Footwear       Shoes  Sports Shoes  15719.jpg\n",
              "344  23929       Footwear       Shoes  Sports Shoes  23929.jpg\n",
              "345   5393       Footwear       Shoes  Sports Shoes   5393.jpg\n",
              "346  22716       Footwear       Shoes  Sports Shoes  22716.jpg\n",
              "\n",
              "[347 rows x 5 columns]"
            ],
            "text/html": [
              "\n",
              "  <div id=\"df-352bb09e-e3a1-4d20-b898-e59ac1bbcdb6\" class=\"colab-df-container\">\n",
              "    <div>\n",
              "<style scoped>\n",
              "    .dataframe tbody tr th:only-of-type {\n",
              "        vertical-align: middle;\n",
              "    }\n",
              "\n",
              "    .dataframe tbody tr th {\n",
              "        vertical-align: top;\n",
              "    }\n",
              "\n",
              "    .dataframe thead th {\n",
              "        text-align: right;\n",
              "    }\n",
              "</style>\n",
              "<table border=\"1\" class=\"dataframe\">\n",
              "  <thead>\n",
              "    <tr style=\"text-align: right;\">\n",
              "      <th></th>\n",
              "      <th>id</th>\n",
              "      <th>masterCategory</th>\n",
              "      <th>subCategory</th>\n",
              "      <th>articleType</th>\n",
              "      <th>filename</th>\n",
              "    </tr>\n",
              "  </thead>\n",
              "  <tbody>\n",
              "    <tr>\n",
              "      <th>0</th>\n",
              "      <td>15738</td>\n",
              "      <td>Footwear</td>\n",
              "      <td>Flip Flops</td>\n",
              "      <td>Flip Flops</td>\n",
              "      <td>15738.jpg</td>\n",
              "    </tr>\n",
              "    <tr>\n",
              "      <th>1</th>\n",
              "      <td>17651</td>\n",
              "      <td>Footwear</td>\n",
              "      <td>Flip Flops</td>\n",
              "      <td>Flip Flops</td>\n",
              "      <td>17651.jpg</td>\n",
              "    </tr>\n",
              "    <tr>\n",
              "      <th>2</th>\n",
              "      <td>44209</td>\n",
              "      <td>Footwear</td>\n",
              "      <td>Flip Flops</td>\n",
              "      <td>Flip Flops</td>\n",
              "      <td>44209.jpg</td>\n",
              "    </tr>\n",
              "    <tr>\n",
              "      <th>3</th>\n",
              "      <td>15387</td>\n",
              "      <td>Footwear</td>\n",
              "      <td>Flip Flops</td>\n",
              "      <td>Flip Flops</td>\n",
              "      <td>15387.jpg</td>\n",
              "    </tr>\n",
              "    <tr>\n",
              "      <th>4</th>\n",
              "      <td>21202</td>\n",
              "      <td>Footwear</td>\n",
              "      <td>Flip Flops</td>\n",
              "      <td>Flip Flops</td>\n",
              "      <td>21202.jpg</td>\n",
              "    </tr>\n",
              "    <tr>\n",
              "      <th>...</th>\n",
              "      <td>...</td>\n",
              "      <td>...</td>\n",
              "      <td>...</td>\n",
              "      <td>...</td>\n",
              "      <td>...</td>\n",
              "    </tr>\n",
              "    <tr>\n",
              "      <th>342</th>\n",
              "      <td>1786</td>\n",
              "      <td>Footwear</td>\n",
              "      <td>Shoes</td>\n",
              "      <td>Sports Shoes</td>\n",
              "      <td>1786.jpg</td>\n",
              "    </tr>\n",
              "    <tr>\n",
              "      <th>343</th>\n",
              "      <td>15719</td>\n",
              "      <td>Footwear</td>\n",
              "      <td>Shoes</td>\n",
              "      <td>Sports Shoes</td>\n",
              "      <td>15719.jpg</td>\n",
              "    </tr>\n",
              "    <tr>\n",
              "      <th>344</th>\n",
              "      <td>23929</td>\n",
              "      <td>Footwear</td>\n",
              "      <td>Shoes</td>\n",
              "      <td>Sports Shoes</td>\n",
              "      <td>23929.jpg</td>\n",
              "    </tr>\n",
              "    <tr>\n",
              "      <th>345</th>\n",
              "      <td>5393</td>\n",
              "      <td>Footwear</td>\n",
              "      <td>Shoes</td>\n",
              "      <td>Sports Shoes</td>\n",
              "      <td>5393.jpg</td>\n",
              "    </tr>\n",
              "    <tr>\n",
              "      <th>346</th>\n",
              "      <td>22716</td>\n",
              "      <td>Footwear</td>\n",
              "      <td>Shoes</td>\n",
              "      <td>Sports Shoes</td>\n",
              "      <td>22716.jpg</td>\n",
              "    </tr>\n",
              "  </tbody>\n",
              "</table>\n",
              "<p>347 rows × 5 columns</p>\n",
              "</div>\n",
              "    <div class=\"colab-df-buttons\">\n",
              "\n",
              "  <div class=\"colab-df-container\">\n",
              "    <button class=\"colab-df-convert\" onclick=\"convertToInteractive('df-352bb09e-e3a1-4d20-b898-e59ac1bbcdb6')\"\n",
              "            title=\"Convert this dataframe to an interactive table.\"\n",
              "            style=\"display:none;\">\n",
              "\n",
              "  <svg xmlns=\"http://www.w3.org/2000/svg\" height=\"24px\" viewBox=\"0 -960 960 960\">\n",
              "    <path d=\"M120-120v-720h720v720H120Zm60-500h600v-160H180v160Zm220 220h160v-160H400v160Zm0 220h160v-160H400v160ZM180-400h160v-160H180v160Zm440 0h160v-160H620v160ZM180-180h160v-160H180v160Zm440 0h160v-160H620v160Z\"/>\n",
              "  </svg>\n",
              "    </button>\n",
              "\n",
              "  <style>\n",
              "    .colab-df-container {\n",
              "      display:flex;\n",
              "      gap: 12px;\n",
              "    }\n",
              "\n",
              "    .colab-df-convert {\n",
              "      background-color: #E8F0FE;\n",
              "      border: none;\n",
              "      border-radius: 50%;\n",
              "      cursor: pointer;\n",
              "      display: none;\n",
              "      fill: #1967D2;\n",
              "      height: 32px;\n",
              "      padding: 0 0 0 0;\n",
              "      width: 32px;\n",
              "    }\n",
              "\n",
              "    .colab-df-convert:hover {\n",
              "      background-color: #E2EBFA;\n",
              "      box-shadow: 0px 1px 2px rgba(60, 64, 67, 0.3), 0px 1px 3px 1px rgba(60, 64, 67, 0.15);\n",
              "      fill: #174EA6;\n",
              "    }\n",
              "\n",
              "    .colab-df-buttons div {\n",
              "      margin-bottom: 4px;\n",
              "    }\n",
              "\n",
              "    [theme=dark] .colab-df-convert {\n",
              "      background-color: #3B4455;\n",
              "      fill: #D2E3FC;\n",
              "    }\n",
              "\n",
              "    [theme=dark] .colab-df-convert:hover {\n",
              "      background-color: #434B5C;\n",
              "      box-shadow: 0px 1px 3px 1px rgba(0, 0, 0, 0.15);\n",
              "      filter: drop-shadow(0px 1px 2px rgba(0, 0, 0, 0.3));\n",
              "      fill: #FFFFFF;\n",
              "    }\n",
              "  </style>\n",
              "\n",
              "    <script>\n",
              "      const buttonEl =\n",
              "        document.querySelector('#df-352bb09e-e3a1-4d20-b898-e59ac1bbcdb6 button.colab-df-convert');\n",
              "      buttonEl.style.display =\n",
              "        google.colab.kernel.accessAllowed ? 'block' : 'none';\n",
              "\n",
              "      async function convertToInteractive(key) {\n",
              "        const element = document.querySelector('#df-352bb09e-e3a1-4d20-b898-e59ac1bbcdb6');\n",
              "        const dataTable =\n",
              "          await google.colab.kernel.invokeFunction('convertToInteractive',\n",
              "                                                    [key], {});\n",
              "        if (!dataTable) return;\n",
              "\n",
              "        const docLinkHtml = 'Like what you see? Visit the ' +\n",
              "          '<a target=\"_blank\" href=https://colab.research.google.com/notebooks/data_table.ipynb>data table notebook</a>'\n",
              "          + ' to learn more about interactive tables.';\n",
              "        element.innerHTML = '';\n",
              "        dataTable['output_type'] = 'display_data';\n",
              "        await google.colab.output.renderOutput(dataTable, element);\n",
              "        const docLink = document.createElement('div');\n",
              "        docLink.innerHTML = docLinkHtml;\n",
              "        element.appendChild(docLink);\n",
              "      }\n",
              "    </script>\n",
              "  </div>\n",
              "\n",
              "\n",
              "<div id=\"df-823b203c-cb82-4142-83ca-1721c6711f91\">\n",
              "  <button class=\"colab-df-quickchart\" onclick=\"quickchart('df-823b203c-cb82-4142-83ca-1721c6711f91')\"\n",
              "            title=\"Suggest charts\"\n",
              "            style=\"display:none;\">\n",
              "\n",
              "<svg xmlns=\"http://www.w3.org/2000/svg\" height=\"24px\"viewBox=\"0 0 24 24\"\n",
              "     width=\"24px\">\n",
              "    <g>\n",
              "        <path d=\"M19 3H5c-1.1 0-2 .9-2 2v14c0 1.1.9 2 2 2h14c1.1 0 2-.9 2-2V5c0-1.1-.9-2-2-2zM9 17H7v-7h2v7zm4 0h-2V7h2v10zm4 0h-2v-4h2v4z\"/>\n",
              "    </g>\n",
              "</svg>\n",
              "  </button>\n",
              "\n",
              "<style>\n",
              "  .colab-df-quickchart {\n",
              "      --bg-color: #E8F0FE;\n",
              "      --fill-color: #1967D2;\n",
              "      --hover-bg-color: #E2EBFA;\n",
              "      --hover-fill-color: #174EA6;\n",
              "      --disabled-fill-color: #AAA;\n",
              "      --disabled-bg-color: #DDD;\n",
              "  }\n",
              "\n",
              "  [theme=dark] .colab-df-quickchart {\n",
              "      --bg-color: #3B4455;\n",
              "      --fill-color: #D2E3FC;\n",
              "      --hover-bg-color: #434B5C;\n",
              "      --hover-fill-color: #FFFFFF;\n",
              "      --disabled-bg-color: #3B4455;\n",
              "      --disabled-fill-color: #666;\n",
              "  }\n",
              "\n",
              "  .colab-df-quickchart {\n",
              "    background-color: var(--bg-color);\n",
              "    border: none;\n",
              "    border-radius: 50%;\n",
              "    cursor: pointer;\n",
              "    display: none;\n",
              "    fill: var(--fill-color);\n",
              "    height: 32px;\n",
              "    padding: 0;\n",
              "    width: 32px;\n",
              "  }\n",
              "\n",
              "  .colab-df-quickchart:hover {\n",
              "    background-color: var(--hover-bg-color);\n",
              "    box-shadow: 0 1px 2px rgba(60, 64, 67, 0.3), 0 1px 3px 1px rgba(60, 64, 67, 0.15);\n",
              "    fill: var(--button-hover-fill-color);\n",
              "  }\n",
              "\n",
              "  .colab-df-quickchart-complete:disabled,\n",
              "  .colab-df-quickchart-complete:disabled:hover {\n",
              "    background-color: var(--disabled-bg-color);\n",
              "    fill: var(--disabled-fill-color);\n",
              "    box-shadow: none;\n",
              "  }\n",
              "\n",
              "  .colab-df-spinner {\n",
              "    border: 2px solid var(--fill-color);\n",
              "    border-color: transparent;\n",
              "    border-bottom-color: var(--fill-color);\n",
              "    animation:\n",
              "      spin 1s steps(1) infinite;\n",
              "  }\n",
              "\n",
              "  @keyframes spin {\n",
              "    0% {\n",
              "      border-color: transparent;\n",
              "      border-bottom-color: var(--fill-color);\n",
              "      border-left-color: var(--fill-color);\n",
              "    }\n",
              "    20% {\n",
              "      border-color: transparent;\n",
              "      border-left-color: var(--fill-color);\n",
              "      border-top-color: var(--fill-color);\n",
              "    }\n",
              "    30% {\n",
              "      border-color: transparent;\n",
              "      border-left-color: var(--fill-color);\n",
              "      border-top-color: var(--fill-color);\n",
              "      border-right-color: var(--fill-color);\n",
              "    }\n",
              "    40% {\n",
              "      border-color: transparent;\n",
              "      border-right-color: var(--fill-color);\n",
              "      border-top-color: var(--fill-color);\n",
              "    }\n",
              "    60% {\n",
              "      border-color: transparent;\n",
              "      border-right-color: var(--fill-color);\n",
              "    }\n",
              "    80% {\n",
              "      border-color: transparent;\n",
              "      border-right-color: var(--fill-color);\n",
              "      border-bottom-color: var(--fill-color);\n",
              "    }\n",
              "    90% {\n",
              "      border-color: transparent;\n",
              "      border-bottom-color: var(--fill-color);\n",
              "    }\n",
              "  }\n",
              "</style>\n",
              "\n",
              "  <script>\n",
              "    async function quickchart(key) {\n",
              "      const quickchartButtonEl =\n",
              "        document.querySelector('#' + key + ' button');\n",
              "      quickchartButtonEl.disabled = true;  // To prevent multiple clicks.\n",
              "      quickchartButtonEl.classList.add('colab-df-spinner');\n",
              "      try {\n",
              "        const charts = await google.colab.kernel.invokeFunction(\n",
              "            'suggestCharts', [key], {});\n",
              "      } catch (error) {\n",
              "        console.error('Error during call to suggestCharts:', error);\n",
              "      }\n",
              "      quickchartButtonEl.classList.remove('colab-df-spinner');\n",
              "      quickchartButtonEl.classList.add('colab-df-quickchart-complete');\n",
              "    }\n",
              "    (() => {\n",
              "      let quickchartButtonEl =\n",
              "        document.querySelector('#df-823b203c-cb82-4142-83ca-1721c6711f91 button');\n",
              "      quickchartButtonEl.style.display =\n",
              "        google.colab.kernel.accessAllowed ? 'block' : 'none';\n",
              "    })();\n",
              "  </script>\n",
              "</div>\n",
              "\n",
              "  <div id=\"id_4f4315cf-d3fc-4203-8e7a-3fdb76cd7e55\">\n",
              "    <style>\n",
              "      .colab-df-generate {\n",
              "        background-color: #E8F0FE;\n",
              "        border: none;\n",
              "        border-radius: 50%;\n",
              "        cursor: pointer;\n",
              "        display: none;\n",
              "        fill: #1967D2;\n",
              "        height: 32px;\n",
              "        padding: 0 0 0 0;\n",
              "        width: 32px;\n",
              "      }\n",
              "\n",
              "      .colab-df-generate:hover {\n",
              "        background-color: #E2EBFA;\n",
              "        box-shadow: 0px 1px 2px rgba(60, 64, 67, 0.3), 0px 1px 3px 1px rgba(60, 64, 67, 0.15);\n",
              "        fill: #174EA6;\n",
              "      }\n",
              "\n",
              "      [theme=dark] .colab-df-generate {\n",
              "        background-color: #3B4455;\n",
              "        fill: #D2E3FC;\n",
              "      }\n",
              "\n",
              "      [theme=dark] .colab-df-generate:hover {\n",
              "        background-color: #434B5C;\n",
              "        box-shadow: 0px 1px 3px 1px rgba(0, 0, 0, 0.15);\n",
              "        filter: drop-shadow(0px 1px 2px rgba(0, 0, 0, 0.3));\n",
              "        fill: #FFFFFF;\n",
              "      }\n",
              "    </style>\n",
              "    <button class=\"colab-df-generate\" onclick=\"generateWithVariable('footwear_img')\"\n",
              "            title=\"Generate code using this dataframe.\"\n",
              "            style=\"display:none;\">\n",
              "\n",
              "  <svg xmlns=\"http://www.w3.org/2000/svg\" height=\"24px\"viewBox=\"0 0 24 24\"\n",
              "       width=\"24px\">\n",
              "    <path d=\"M7,19H8.4L18.45,9,17,7.55,7,17.6ZM5,21V16.75L18.45,3.32a2,2,0,0,1,2.83,0l1.4,1.43a1.91,1.91,0,0,1,.58,1.4,1.91,1.91,0,0,1-.58,1.4L9.25,21ZM18.45,9,17,7.55Zm-12,3A5.31,5.31,0,0,0,4.9,8.1,5.31,5.31,0,0,0,1,6.5,5.31,5.31,0,0,0,4.9,4.9,5.31,5.31,0,0,0,6.5,1,5.31,5.31,0,0,0,8.1,4.9,5.31,5.31,0,0,0,12,6.5,5.46,5.46,0,0,0,6.5,12Z\"/>\n",
              "  </svg>\n",
              "    </button>\n",
              "    <script>\n",
              "      (() => {\n",
              "      const buttonEl =\n",
              "        document.querySelector('#id_4f4315cf-d3fc-4203-8e7a-3fdb76cd7e55 button.colab-df-generate');\n",
              "      buttonEl.style.display =\n",
              "        google.colab.kernel.accessAllowed ? 'block' : 'none';\n",
              "\n",
              "      buttonEl.onclick = () => {\n",
              "        google.colab.notebook.generateWithVariable('footwear_img');\n",
              "      }\n",
              "      })();\n",
              "    </script>\n",
              "  </div>\n",
              "\n",
              "    </div>\n",
              "  </div>\n"
            ],
            "application/vnd.google.colaboratory.intrinsic+json": {
              "type": "dataframe",
              "variable_name": "footwear_img",
              "summary": "{\n  \"name\": \"footwear_img\",\n  \"rows\": 347,\n  \"fields\": [\n    {\n      \"column\": \"id\",\n      \"properties\": {\n        \"dtype\": \"number\",\n        \"std\": 16367,\n        \"min\": 1783,\n        \"max\": 59944,\n        \"num_unique_values\": 347,\n        \"samples\": [\n          19309,\n          34083,\n          8083\n        ],\n        \"semantic_type\": \"\",\n        \"description\": \"\"\n      }\n    },\n    {\n      \"column\": \"masterCategory\",\n      \"properties\": {\n        \"dtype\": \"category\",\n        \"num_unique_values\": 1,\n        \"samples\": [\n          \"Footwear\"\n        ],\n        \"semantic_type\": \"\",\n        \"description\": \"\"\n      }\n    },\n    {\n      \"column\": \"subCategory\",\n      \"properties\": {\n        \"dtype\": \"category\",\n        \"num_unique_values\": 3,\n        \"samples\": [\n          \"Flip Flops\"\n        ],\n        \"semantic_type\": \"\",\n        \"description\": \"\"\n      }\n    },\n    {\n      \"column\": \"articleType\",\n      \"properties\": {\n        \"dtype\": \"category\",\n        \"num_unique_values\": 5,\n        \"samples\": [\n          \"Sandals\"\n        ],\n        \"semantic_type\": \"\",\n        \"description\": \"\"\n      }\n    },\n    {\n      \"column\": \"filename\",\n      \"properties\": {\n        \"dtype\": \"string\",\n        \"num_unique_values\": 347,\n        \"samples\": [\n          \"19309.jpg\"\n        ],\n        \"semantic_type\": \"\",\n        \"description\": \"\"\n      }\n    }\n  ]\n}"
            }
          },
          "metadata": {},
          "execution_count": 12
        }
      ],
      "source": [
        "imgs_df"
      ]
    },
    {
      "cell_type": "code",
      "execution_count": 13,
      "metadata": {
        "id": "BiNduso3UvUz"
      },
      "outputs": [],
      "source": [
        "imgs_df['label']=imgs_df['masterCategory']+'_'+imgs_df['subCategory']+'_'+imgs_df['articleType']"
      ]
    },
    {
      "cell_type": "code",
      "execution_count": 14,
      "metadata": {
        "colab": {
          "base_uri": "https://localhost:8080/",
          "height": 206
        },
        "id": "BP2YGkhpVGie",
        "outputId": "ac453df6-5559-42e8-f864-f92da1265cad"
      },
      "outputs": [
        {
          "output_type": "execute_result",
          "data": {
            "text/plain": [
              "      id masterCategory subCategory articleType   filename  \\\n",
              "0  15738       Footwear  Flip Flops  Flip Flops  15738.jpg   \n",
              "1  17651       Footwear  Flip Flops  Flip Flops  17651.jpg   \n",
              "2  44209       Footwear  Flip Flops  Flip Flops  44209.jpg   \n",
              "3  15387       Footwear  Flip Flops  Flip Flops  15387.jpg   \n",
              "4  21202       Footwear  Flip Flops  Flip Flops  21202.jpg   \n",
              "\n",
              "                            label  \n",
              "0  Footwear_Flip Flops_Flip Flops  \n",
              "1  Footwear_Flip Flops_Flip Flops  \n",
              "2  Footwear_Flip Flops_Flip Flops  \n",
              "3  Footwear_Flip Flops_Flip Flops  \n",
              "4  Footwear_Flip Flops_Flip Flops  "
            ],
            "text/html": [
              "\n",
              "  <div id=\"df-7941a825-f231-4703-92a0-efc62cca7fc3\" class=\"colab-df-container\">\n",
              "    <div>\n",
              "<style scoped>\n",
              "    .dataframe tbody tr th:only-of-type {\n",
              "        vertical-align: middle;\n",
              "    }\n",
              "\n",
              "    .dataframe tbody tr th {\n",
              "        vertical-align: top;\n",
              "    }\n",
              "\n",
              "    .dataframe thead th {\n",
              "        text-align: right;\n",
              "    }\n",
              "</style>\n",
              "<table border=\"1\" class=\"dataframe\">\n",
              "  <thead>\n",
              "    <tr style=\"text-align: right;\">\n",
              "      <th></th>\n",
              "      <th>id</th>\n",
              "      <th>masterCategory</th>\n",
              "      <th>subCategory</th>\n",
              "      <th>articleType</th>\n",
              "      <th>filename</th>\n",
              "      <th>label</th>\n",
              "    </tr>\n",
              "  </thead>\n",
              "  <tbody>\n",
              "    <tr>\n",
              "      <th>0</th>\n",
              "      <td>15738</td>\n",
              "      <td>Footwear</td>\n",
              "      <td>Flip Flops</td>\n",
              "      <td>Flip Flops</td>\n",
              "      <td>15738.jpg</td>\n",
              "      <td>Footwear_Flip Flops_Flip Flops</td>\n",
              "    </tr>\n",
              "    <tr>\n",
              "      <th>1</th>\n",
              "      <td>17651</td>\n",
              "      <td>Footwear</td>\n",
              "      <td>Flip Flops</td>\n",
              "      <td>Flip Flops</td>\n",
              "      <td>17651.jpg</td>\n",
              "      <td>Footwear_Flip Flops_Flip Flops</td>\n",
              "    </tr>\n",
              "    <tr>\n",
              "      <th>2</th>\n",
              "      <td>44209</td>\n",
              "      <td>Footwear</td>\n",
              "      <td>Flip Flops</td>\n",
              "      <td>Flip Flops</td>\n",
              "      <td>44209.jpg</td>\n",
              "      <td>Footwear_Flip Flops_Flip Flops</td>\n",
              "    </tr>\n",
              "    <tr>\n",
              "      <th>3</th>\n",
              "      <td>15387</td>\n",
              "      <td>Footwear</td>\n",
              "      <td>Flip Flops</td>\n",
              "      <td>Flip Flops</td>\n",
              "      <td>15387.jpg</td>\n",
              "      <td>Footwear_Flip Flops_Flip Flops</td>\n",
              "    </tr>\n",
              "    <tr>\n",
              "      <th>4</th>\n",
              "      <td>21202</td>\n",
              "      <td>Footwear</td>\n",
              "      <td>Flip Flops</td>\n",
              "      <td>Flip Flops</td>\n",
              "      <td>21202.jpg</td>\n",
              "      <td>Footwear_Flip Flops_Flip Flops</td>\n",
              "    </tr>\n",
              "  </tbody>\n",
              "</table>\n",
              "</div>\n",
              "    <div class=\"colab-df-buttons\">\n",
              "\n",
              "  <div class=\"colab-df-container\">\n",
              "    <button class=\"colab-df-convert\" onclick=\"convertToInteractive('df-7941a825-f231-4703-92a0-efc62cca7fc3')\"\n",
              "            title=\"Convert this dataframe to an interactive table.\"\n",
              "            style=\"display:none;\">\n",
              "\n",
              "  <svg xmlns=\"http://www.w3.org/2000/svg\" height=\"24px\" viewBox=\"0 -960 960 960\">\n",
              "    <path d=\"M120-120v-720h720v720H120Zm60-500h600v-160H180v160Zm220 220h160v-160H400v160Zm0 220h160v-160H400v160ZM180-400h160v-160H180v160Zm440 0h160v-160H620v160ZM180-180h160v-160H180v160Zm440 0h160v-160H620v160Z\"/>\n",
              "  </svg>\n",
              "    </button>\n",
              "\n",
              "  <style>\n",
              "    .colab-df-container {\n",
              "      display:flex;\n",
              "      gap: 12px;\n",
              "    }\n",
              "\n",
              "    .colab-df-convert {\n",
              "      background-color: #E8F0FE;\n",
              "      border: none;\n",
              "      border-radius: 50%;\n",
              "      cursor: pointer;\n",
              "      display: none;\n",
              "      fill: #1967D2;\n",
              "      height: 32px;\n",
              "      padding: 0 0 0 0;\n",
              "      width: 32px;\n",
              "    }\n",
              "\n",
              "    .colab-df-convert:hover {\n",
              "      background-color: #E2EBFA;\n",
              "      box-shadow: 0px 1px 2px rgba(60, 64, 67, 0.3), 0px 1px 3px 1px rgba(60, 64, 67, 0.15);\n",
              "      fill: #174EA6;\n",
              "    }\n",
              "\n",
              "    .colab-df-buttons div {\n",
              "      margin-bottom: 4px;\n",
              "    }\n",
              "\n",
              "    [theme=dark] .colab-df-convert {\n",
              "      background-color: #3B4455;\n",
              "      fill: #D2E3FC;\n",
              "    }\n",
              "\n",
              "    [theme=dark] .colab-df-convert:hover {\n",
              "      background-color: #434B5C;\n",
              "      box-shadow: 0px 1px 3px 1px rgba(0, 0, 0, 0.15);\n",
              "      filter: drop-shadow(0px 1px 2px rgba(0, 0, 0, 0.3));\n",
              "      fill: #FFFFFF;\n",
              "    }\n",
              "  </style>\n",
              "\n",
              "    <script>\n",
              "      const buttonEl =\n",
              "        document.querySelector('#df-7941a825-f231-4703-92a0-efc62cca7fc3 button.colab-df-convert');\n",
              "      buttonEl.style.display =\n",
              "        google.colab.kernel.accessAllowed ? 'block' : 'none';\n",
              "\n",
              "      async function convertToInteractive(key) {\n",
              "        const element = document.querySelector('#df-7941a825-f231-4703-92a0-efc62cca7fc3');\n",
              "        const dataTable =\n",
              "          await google.colab.kernel.invokeFunction('convertToInteractive',\n",
              "                                                    [key], {});\n",
              "        if (!dataTable) return;\n",
              "\n",
              "        const docLinkHtml = 'Like what you see? Visit the ' +\n",
              "          '<a target=\"_blank\" href=https://colab.research.google.com/notebooks/data_table.ipynb>data table notebook</a>'\n",
              "          + ' to learn more about interactive tables.';\n",
              "        element.innerHTML = '';\n",
              "        dataTable['output_type'] = 'display_data';\n",
              "        await google.colab.output.renderOutput(dataTable, element);\n",
              "        const docLink = document.createElement('div');\n",
              "        docLink.innerHTML = docLinkHtml;\n",
              "        element.appendChild(docLink);\n",
              "      }\n",
              "    </script>\n",
              "  </div>\n",
              "\n",
              "\n",
              "<div id=\"df-7e5c7a58-6090-4b57-be33-b2ca3daa811c\">\n",
              "  <button class=\"colab-df-quickchart\" onclick=\"quickchart('df-7e5c7a58-6090-4b57-be33-b2ca3daa811c')\"\n",
              "            title=\"Suggest charts\"\n",
              "            style=\"display:none;\">\n",
              "\n",
              "<svg xmlns=\"http://www.w3.org/2000/svg\" height=\"24px\"viewBox=\"0 0 24 24\"\n",
              "     width=\"24px\">\n",
              "    <g>\n",
              "        <path d=\"M19 3H5c-1.1 0-2 .9-2 2v14c0 1.1.9 2 2 2h14c1.1 0 2-.9 2-2V5c0-1.1-.9-2-2-2zM9 17H7v-7h2v7zm4 0h-2V7h2v10zm4 0h-2v-4h2v4z\"/>\n",
              "    </g>\n",
              "</svg>\n",
              "  </button>\n",
              "\n",
              "<style>\n",
              "  .colab-df-quickchart {\n",
              "      --bg-color: #E8F0FE;\n",
              "      --fill-color: #1967D2;\n",
              "      --hover-bg-color: #E2EBFA;\n",
              "      --hover-fill-color: #174EA6;\n",
              "      --disabled-fill-color: #AAA;\n",
              "      --disabled-bg-color: #DDD;\n",
              "  }\n",
              "\n",
              "  [theme=dark] .colab-df-quickchart {\n",
              "      --bg-color: #3B4455;\n",
              "      --fill-color: #D2E3FC;\n",
              "      --hover-bg-color: #434B5C;\n",
              "      --hover-fill-color: #FFFFFF;\n",
              "      --disabled-bg-color: #3B4455;\n",
              "      --disabled-fill-color: #666;\n",
              "  }\n",
              "\n",
              "  .colab-df-quickchart {\n",
              "    background-color: var(--bg-color);\n",
              "    border: none;\n",
              "    border-radius: 50%;\n",
              "    cursor: pointer;\n",
              "    display: none;\n",
              "    fill: var(--fill-color);\n",
              "    height: 32px;\n",
              "    padding: 0;\n",
              "    width: 32px;\n",
              "  }\n",
              "\n",
              "  .colab-df-quickchart:hover {\n",
              "    background-color: var(--hover-bg-color);\n",
              "    box-shadow: 0 1px 2px rgba(60, 64, 67, 0.3), 0 1px 3px 1px rgba(60, 64, 67, 0.15);\n",
              "    fill: var(--button-hover-fill-color);\n",
              "  }\n",
              "\n",
              "  .colab-df-quickchart-complete:disabled,\n",
              "  .colab-df-quickchart-complete:disabled:hover {\n",
              "    background-color: var(--disabled-bg-color);\n",
              "    fill: var(--disabled-fill-color);\n",
              "    box-shadow: none;\n",
              "  }\n",
              "\n",
              "  .colab-df-spinner {\n",
              "    border: 2px solid var(--fill-color);\n",
              "    border-color: transparent;\n",
              "    border-bottom-color: var(--fill-color);\n",
              "    animation:\n",
              "      spin 1s steps(1) infinite;\n",
              "  }\n",
              "\n",
              "  @keyframes spin {\n",
              "    0% {\n",
              "      border-color: transparent;\n",
              "      border-bottom-color: var(--fill-color);\n",
              "      border-left-color: var(--fill-color);\n",
              "    }\n",
              "    20% {\n",
              "      border-color: transparent;\n",
              "      border-left-color: var(--fill-color);\n",
              "      border-top-color: var(--fill-color);\n",
              "    }\n",
              "    30% {\n",
              "      border-color: transparent;\n",
              "      border-left-color: var(--fill-color);\n",
              "      border-top-color: var(--fill-color);\n",
              "      border-right-color: var(--fill-color);\n",
              "    }\n",
              "    40% {\n",
              "      border-color: transparent;\n",
              "      border-right-color: var(--fill-color);\n",
              "      border-top-color: var(--fill-color);\n",
              "    }\n",
              "    60% {\n",
              "      border-color: transparent;\n",
              "      border-right-color: var(--fill-color);\n",
              "    }\n",
              "    80% {\n",
              "      border-color: transparent;\n",
              "      border-right-color: var(--fill-color);\n",
              "      border-bottom-color: var(--fill-color);\n",
              "    }\n",
              "    90% {\n",
              "      border-color: transparent;\n",
              "      border-bottom-color: var(--fill-color);\n",
              "    }\n",
              "  }\n",
              "</style>\n",
              "\n",
              "  <script>\n",
              "    async function quickchart(key) {\n",
              "      const quickchartButtonEl =\n",
              "        document.querySelector('#' + key + ' button');\n",
              "      quickchartButtonEl.disabled = true;  // To prevent multiple clicks.\n",
              "      quickchartButtonEl.classList.add('colab-df-spinner');\n",
              "      try {\n",
              "        const charts = await google.colab.kernel.invokeFunction(\n",
              "            'suggestCharts', [key], {});\n",
              "      } catch (error) {\n",
              "        console.error('Error during call to suggestCharts:', error);\n",
              "      }\n",
              "      quickchartButtonEl.classList.remove('colab-df-spinner');\n",
              "      quickchartButtonEl.classList.add('colab-df-quickchart-complete');\n",
              "    }\n",
              "    (() => {\n",
              "      let quickchartButtonEl =\n",
              "        document.querySelector('#df-7e5c7a58-6090-4b57-be33-b2ca3daa811c button');\n",
              "      quickchartButtonEl.style.display =\n",
              "        google.colab.kernel.accessAllowed ? 'block' : 'none';\n",
              "    })();\n",
              "  </script>\n",
              "</div>\n",
              "\n",
              "    </div>\n",
              "  </div>\n"
            ],
            "application/vnd.google.colaboratory.intrinsic+json": {
              "type": "dataframe",
              "variable_name": "imgs_df",
              "summary": "{\n  \"name\": \"imgs_df\",\n  \"rows\": 347,\n  \"fields\": [\n    {\n      \"column\": \"id\",\n      \"properties\": {\n        \"dtype\": \"number\",\n        \"std\": 16367,\n        \"min\": 1783,\n        \"max\": 59944,\n        \"num_unique_values\": 347,\n        \"samples\": [\n          19309,\n          34083,\n          8083\n        ],\n        \"semantic_type\": \"\",\n        \"description\": \"\"\n      }\n    },\n    {\n      \"column\": \"masterCategory\",\n      \"properties\": {\n        \"dtype\": \"category\",\n        \"num_unique_values\": 1,\n        \"samples\": [\n          \"Footwear\"\n        ],\n        \"semantic_type\": \"\",\n        \"description\": \"\"\n      }\n    },\n    {\n      \"column\": \"subCategory\",\n      \"properties\": {\n        \"dtype\": \"category\",\n        \"num_unique_values\": 3,\n        \"samples\": [\n          \"Flip Flops\"\n        ],\n        \"semantic_type\": \"\",\n        \"description\": \"\"\n      }\n    },\n    {\n      \"column\": \"articleType\",\n      \"properties\": {\n        \"dtype\": \"category\",\n        \"num_unique_values\": 5,\n        \"samples\": [\n          \"Sandals\"\n        ],\n        \"semantic_type\": \"\",\n        \"description\": \"\"\n      }\n    },\n    {\n      \"column\": \"filename\",\n      \"properties\": {\n        \"dtype\": \"string\",\n        \"num_unique_values\": 347,\n        \"samples\": [\n          \"19309.jpg\"\n        ],\n        \"semantic_type\": \"\",\n        \"description\": \"\"\n      }\n    },\n    {\n      \"column\": \"label\",\n      \"properties\": {\n        \"dtype\": \"category\",\n        \"num_unique_values\": 5,\n        \"samples\": [\n          \"Footwear_Sandal_Sandals\"\n        ],\n        \"semantic_type\": \"\",\n        \"description\": \"\"\n      }\n    }\n  ]\n}"
            }
          },
          "metadata": {},
          "execution_count": 14
        }
      ],
      "source": [
        "imgs_df.head()"
      ]
    },
    {
      "cell_type": "code",
      "execution_count": 15,
      "metadata": {
        "colab": {
          "base_uri": "https://localhost:8080/"
        },
        "id": "88Rg_KVL_BMR",
        "outputId": "bb3702d6-ac3e-4607-e557-7d715aead48a"
      },
      "outputs": [
        {
          "output_type": "execute_result",
          "data": {
            "text/plain": [
              "array(['Footwear_Flip Flops_Flip Flops', 'Footwear_Sandal_Sandals',\n",
              "       'Footwear_Shoes_Casual Shoes', 'Footwear_Shoes_Formal Shoes',\n",
              "       'Footwear_Shoes_Sports Shoes'], dtype=object)"
            ]
          },
          "metadata": {},
          "execution_count": 15
        }
      ],
      "source": [
        "imgs_df['label'].unique()\n"
      ]
    },
    {
      "cell_type": "code",
      "execution_count": 16,
      "metadata": {
        "id": "Y2Pczez6AEWw"
      },
      "outputs": [],
      "source": [
        "import torch\n",
        "import torch.nn as nn\n",
        "import torch.optim as optim\n",
        "import torch.nn.functional as F\n",
        "from torchvision import models, transforms\n",
        "from torch.utils.data import Dataset, DataLoader\n",
        "from PIL import Image\n",
        "import numpy as np\n",
        "import os\n",
        "from sklearn.model_selection import train_test_split\n",
        "import matplotlib.pyplot as plt\n"
      ]
    },
    {
      "cell_type": "code",
      "execution_count": 17,
      "metadata": {
        "id": "yw_22W13XcwV"
      },
      "outputs": [],
      "source": [
        "target_size = (224, 224)"
      ]
    },
    {
      "cell_type": "code",
      "execution_count": 18,
      "metadata": {
        "id": "n6q3ir4L_BMS"
      },
      "outputs": [],
      "source": [
        "import torch\n",
        "import torch.nn as nn\n",
        "import torch.optim as optim\n",
        "from torch.utils.data import Dataset, DataLoader\n",
        "from torchvision import models, transforms\n",
        "import numpy as np\n"
      ]
    },
    {
      "cell_type": "code",
      "execution_count": 18,
      "metadata": {
        "id": "B2AUxO8s_BMT"
      },
      "outputs": [],
      "source": []
    },
    {
      "cell_type": "code",
      "execution_count": 19,
      "metadata": {
        "id": "Am2AfB-c_BMS"
      },
      "outputs": [],
      "source": [
        "from PIL import Image\n",
        "import numpy as np\n",
        "\n",
        "def preprocess_images(imgs_df, folder_path, target_size=(224, 224)):\n",
        "    \"\"\"\n",
        "    Preprocess images and labels without TensorFlow.\n",
        "\n",
        "    Args:\n",
        "        imgs_df: DataFrame containing image metadata (e.g., filename, category, label).\n",
        "        folder_path: Root folder containing the images.\n",
        "        target_size: Tuple specifying the target size of the image (width, height).\n",
        "\n",
        "    Returns:\n",
        "        images: Numpy array of preprocessed images.\n",
        "        labels: List of corresponding labels.\n",
        "    \"\"\"\n",
        "    images = []\n",
        "    labels = []\n",
        "\n",
        "    for ind, row in imgs_df.iterrows():\n",
        "       # try:\n",
        "            # Build the file path based on the category\n",
        "            if row['masterCategory'] == 'Apparel':\n",
        "                file_path = f\"{folder_path}/clothing/{row['filename']}\"\n",
        "            elif row['masterCategory'] == 'Footwear':\n",
        "                file_path = f\"{folder_path}/foot wear/{row['filename']}\"\n",
        "            # else:\n",
        "            #     continue  # Skip rows with other categories\n",
        "\n",
        "            # # Load the image using Pillow\n",
        "            #img = Image.open(file_path).convert('RGB')\n",
        "\n",
        "            # # Resize the image\n",
        "            # img = img.resize(target_size)\n",
        "\n",
        "            # # Convert the image to a numpy array\n",
        "            # img_array = np.asarray(img, dtype=np.float32)\n",
        "\n",
        "            # # Normalize the image to match ResNet preprocessing\n",
        "            # img_array /= 255.0  # Scale pixel values to [0, 1]\n",
        "\n",
        "\n",
        "            # Append the preprocessed image and label\n",
        "            images.append(file_path)\n",
        "            labels.append(row['label'])\n",
        "\n",
        "        # except Exception as e:\n",
        "        #     print(f\"Error processing file {row['id']}: {e}\")\n",
        "\n",
        "    # Convert the list of images to a numpy array\n",
        "    #images = np.array(images)\n",
        "\n",
        "    return images, labels\n"
      ]
    },
    {
      "cell_type": "code",
      "source": [],
      "metadata": {
        "id": "uFH37UL3YyBO"
      },
      "execution_count": 19,
      "outputs": []
    },
    {
      "cell_type": "code",
      "execution_count": 20,
      "metadata": {
        "id": "F4v_On7U_BMT"
      },
      "outputs": [],
      "source": [
        "images, labels = preprocess_images(imgs_df, folder_path, target_size)"
      ]
    },
    {
      "cell_type": "code",
      "execution_count": 21,
      "metadata": {
        "colab": {
          "base_uri": "https://localhost:8080/"
        },
        "id": "RGGNGlBq_BMU",
        "outputId": "ac2272cc-55f0-4815-c308-6189db2bc650"
      },
      "outputs": [
        {
          "output_type": "stream",
          "name": "stdout",
          "text": [
            "Encoded labels: [0 0 0 0 0 0 0 0 0 0 0 0 0 0 0 0 0 0 0 0 0 0 0 0 0 0 0 0 0 0 0 0 0 0 0 0 0\n",
            " 0 0 0 0 0 0 0 0 0 0 0 0 0 0 0 0 0 0 0 0 0 0 0 0 0 0 0 0 0 0 0 0 0 1 1 1 1\n",
            " 1 1 1 1 1 1 1 1 1 1 1 1 1 1 1 1 1 1 1 1 1 1 1 1 1 1 1 1 1 1 1 1 1 1 1 1 1\n",
            " 1 1 1 1 1 1 1 1 1 1 1 1 1 1 1 1 1 1 1 1 1 1 1 1 1 1 1 1 1 2 2 2 2 2 2 2 2\n",
            " 2 2 2 2 2 2 2 2 2 2 2 2 2 2 2 2 2 2 2 2 2 2 2 2 2 2 2 2 2 2 2 2 2 2 2 2 2\n",
            " 2 2 2 2 2 2 2 2 2 2 2 2 2 2 2 2 2 2 2 2 2 2 2 2 2 3 3 3 3 3 3 3 3 3 3 3 3\n",
            " 3 3 3 3 3 3 3 3 3 3 3 3 3 3 3 3 3 3 3 3 3 3 3 3 3 3 3 3 3 3 3 3 3 3 3 3 3\n",
            " 3 3 3 3 3 3 3 3 3 3 3 3 3 3 3 3 3 3 3 3 4 4 4 4 4 4 4 4 4 4 4 4 4 4 4 4 4\n",
            " 4 4 4 4 4 4 4 4 4 4 4 4 4 4 4 4 4 4 4 4 4 4 4 4 4 4 4 4 4 4 4 4 4 4 4 4 4\n",
            " 4 4 4 4 4 4 4 4 4 4 4 4 4 4]\n"
          ]
        }
      ],
      "source": [
        "from sklearn.preprocessing import LabelEncoder\n",
        "\n",
        "# Encode string labels to integers\n",
        "label_encoder = LabelEncoder()\n",
        "encoded_labels = label_encoder.fit_transform(labels)\n",
        "\n",
        "print(f\"Encoded labels: {encoded_labels}\")"
      ]
    },
    {
      "cell_type": "code",
      "execution_count": 22,
      "metadata": {
        "id": "mlvhlZkW_BMU"
      },
      "outputs": [],
      "source": [
        "import numpy as np\n",
        "\n",
        "def create_image_pairs(images, labels, target_pair_count=2000):\n",
        "    \"\"\"\n",
        "    Create at least `target_pair_count` pairs of images and their corresponding labels (1 for similar, 0 for dissimilar).\n",
        "\n",
        "    Args:\n",
        "    - images: Array of preprocessed images.\n",
        "    - labels: Array of labels corresponding to the images.\n",
        "    - target_pair_count: Total number of pairs to generate.\n",
        "\n",
        "    Returns:\n",
        "    - pairs: Array of paired images.\n",
        "    - pair_labels: Array of labels for the pairs (1: similar, 0: dissimilar).\n",
        "    \"\"\"\n",
        "    pairs = []\n",
        "    pair_labels = []\n",
        "    unique_labels = np.unique(labels)\n",
        "    #print('here')\n",
        "    label_indices = {label: np.where(labels == label)[0] for label in unique_labels}\n",
        "    print(label_indices)\n",
        "    #print('here_1')\n",
        "\n",
        "    # Calculate number of positive and negative pairs\n",
        "    num_positive_pairs = target_pair_count // 2\n",
        "    num_negative_pairs = target_pair_count - num_positive_pairs\n",
        "\n",
        "    # Generate positive pairs\n",
        "    while len(pairs) < num_positive_pairs:\n",
        "        #print('h3')\n",
        "        for label, indices in label_indices.items():\n",
        "            if len(indices) < 2:\n",
        "                continue  # Skip if not enough samples for positive pairs\n",
        "            i, j = np.random.choice(indices, size=2, replace=False)\n",
        "            pairs.append([images[i], images[j]])\n",
        "            pair_labels.append(1)\n",
        "            #print('1')\n",
        "            if len(pairs) >= num_positive_pairs:\n",
        "                break\n",
        "\n",
        "    # Generate negative pairs\n",
        "    while len(pairs) < target_pair_count:\n",
        "        for label, indices in label_indices.items():\n",
        "            i = np.random.choice(indices)\n",
        "            neg_label = np.random.choice(unique_labels[unique_labels != label])\n",
        "            j = np.random.choice(label_indices[neg_label])\n",
        "            pairs.append([images[i], images[j]])\n",
        "            pair_labels.append(0)\n",
        "            #print('0')\n",
        "            if len(pairs) >= target_pair_count:\n",
        "                break\n",
        "\n",
        "    return np.array(pairs), np.array(pair_labels)\n"
      ]
    },
    {
      "cell_type": "code",
      "execution_count": 23,
      "metadata": {
        "colab": {
          "base_uri": "https://localhost:8080/"
        },
        "id": "Fj0tHz4g_BMU",
        "outputId": "8f7437c8-d07e-47e7-9f10-fcd8ee5814f2"
      },
      "outputs": [
        {
          "output_type": "stream",
          "name": "stdout",
          "text": [
            "{0: array([ 0,  1,  2,  3,  4,  5,  6,  7,  8,  9, 10, 11, 12, 13, 14, 15, 16,\n",
            "       17, 18, 19, 20, 21, 22, 23, 24, 25, 26, 27, 28, 29, 30, 31, 32, 33,\n",
            "       34, 35, 36, 37, 38, 39, 40, 41, 42, 43, 44, 45, 46, 47, 48, 49, 50,\n",
            "       51, 52, 53, 54, 55, 56, 57, 58, 59, 60, 61, 62, 63, 64, 65, 66, 67,\n",
            "       68, 69]), 1: array([ 70,  71,  72,  73,  74,  75,  76,  77,  78,  79,  80,  81,  82,\n",
            "        83,  84,  85,  86,  87,  88,  89,  90,  91,  92,  93,  94,  95,\n",
            "        96,  97,  98,  99, 100, 101, 102, 103, 104, 105, 106, 107, 108,\n",
            "       109, 110, 111, 112, 113, 114, 115, 116, 117, 118, 119, 120, 121,\n",
            "       122, 123, 124, 125, 126, 127, 128, 129, 130, 131, 132, 133, 134,\n",
            "       135, 136, 137, 138, 139]), 2: array([140, 141, 142, 143, 144, 145, 146, 147, 148, 149, 150, 151, 152,\n",
            "       153, 154, 155, 156, 157, 158, 159, 160, 161, 162, 163, 164, 165,\n",
            "       166, 167, 168, 169, 170, 171, 172, 173, 174, 175, 176, 177, 178,\n",
            "       179, 180, 181, 182, 183, 184, 185, 186, 187, 188, 189, 190, 191,\n",
            "       192, 193, 194, 195, 196, 197, 198, 199, 200, 201, 202, 203, 204,\n",
            "       205, 206, 207, 208, 209]), 3: array([210, 211, 212, 213, 214, 215, 216, 217, 218, 219, 220, 221, 222,\n",
            "       223, 224, 225, 226, 227, 228, 229, 230, 231, 232, 233, 234, 235,\n",
            "       236, 237, 238, 239, 240, 241, 242, 243, 244, 245, 246, 247, 248,\n",
            "       249, 250, 251, 252, 253, 254, 255, 256, 257, 258, 259, 260, 261,\n",
            "       262, 263, 264, 265, 266, 267, 268, 269, 270, 271, 272, 273, 274,\n",
            "       275, 276, 277, 278]), 4: array([279, 280, 281, 282, 283, 284, 285, 286, 287, 288, 289, 290, 291,\n",
            "       292, 293, 294, 295, 296, 297, 298, 299, 300, 301, 302, 303, 304,\n",
            "       305, 306, 307, 308, 309, 310, 311, 312, 313, 314, 315, 316, 317,\n",
            "       318, 319, 320, 321, 322, 323, 324, 325, 326, 327, 328, 329, 330,\n",
            "       331, 332, 333, 334, 335, 336, 337, 338, 339, 340, 341, 342, 343,\n",
            "       344, 345, 346])}\n",
            "Number of pairs: 15000\n",
            "Pair labels distribution: (array([0, 1]), array([7500, 7500]))\n"
          ]
        }
      ],
      "source": [
        "# Assuming `images` is a numpy array of preprocessed images and `labels` is a numpy array of their labels\n",
        "pairs, pair_labels = create_image_pairs(images, encoded_labels, target_pair_count=15000)\n",
        "print(f\"Number of pairs: {len(pairs)}\")\n",
        "print(f\"Pair labels distribution: {np.unique(pair_labels, return_counts=True)}\")"
      ]
    },
    {
      "cell_type": "code",
      "source": [
        "class ProductDataset(Dataset):\n",
        "    def __init__(self, pairs, labels, transform=None):\n",
        "        self.pairs = pairs\n",
        "        self.labels = labels\n",
        "        self.transform = transform\n",
        "\n",
        "    def __len__(self):\n",
        "        return len(self.pairs)\n",
        "\n",
        "    def __getitem__(self, idx):\n",
        "        img1_path, img2_path = self.pairs[idx]\n",
        "        label = self.labels[idx]\n",
        "\n",
        "        img1 = Image.open(img1_path).convert('RGB')\n",
        "        img2 = Image.open(img2_path).convert('RGB')\n",
        "\n",
        "        if self.transform:\n",
        "            img1 = self.transform(img1)\n",
        "            img2 = self.transform(img2)\n",
        "\n",
        "        return img1, img2, torch.tensor(label, dtype=torch.float32)\n"
      ],
      "metadata": {
        "id": "rDNBw16wZmja"
      },
      "execution_count": 24,
      "outputs": []
    },
    {
      "cell_type": "code",
      "source": [
        "class AttentionModule(nn.Module):\n",
        "    def __init__(self, embedding_dim):\n",
        "        super(AttentionModule, self).__init__()\n",
        "        self.attention = nn.Sequential(\n",
        "            nn.Linear(embedding_dim, embedding_dim),\n",
        "            nn.ReLU(),\n",
        "            nn.Softmax(dim=-1)\n",
        "        )\n",
        "\n",
        "    def forward(self, x):\n",
        "        attention_weights = self.attention(x)\n",
        "        return x * attention_weights\n",
        "\n",
        "class SiameseNetwork(nn.Module):\n",
        "    def __init__(self, feature_extractor, embedding_dim):\n",
        "        super(SiameseNetwork, self).__init__()\n",
        "        self.feature_extractor = feature_extractor\n",
        "        self.pooling = nn.AdaptiveAvgPool2d((1, 1))  # Global average pooling\n",
        "        self.attention = AttentionModule(embedding_dim)\n",
        "        self.fc = nn.Sequential(\n",
        "            nn.Linear(embedding_dim, 128),\n",
        "            nn.BatchNorm1d(128),\n",
        "            nn.ReLU(),\n",
        "            nn.Dropout(0.3),\n",
        "            nn.Linear(128, 1),\n",
        "            nn.Sigmoid()\n",
        "        )\n",
        "\n",
        "    def forward(self, img1, img2):\n",
        "        # Extract embeddings\n",
        "        embedding1 = self.feature_extractor(img1)\n",
        "        embedding2 = self.feature_extractor(img2)\n",
        "\n",
        "        # Apply global average pooling to flatten feature maps\n",
        "        embedding1 = self.pooling(embedding1).view(embedding1.size(0), -1)  # [batch_size, embedding_dim]\n",
        "        embedding2 = self.pooling(embedding2).view(embedding2.size(0), -1)  # [batch_size, embedding_dim]\n",
        "\n",
        "        # Attention mechanism\n",
        "        embedding1 = self.attention(embedding1)\n",
        "        embedding2 = self.attention(embedding2)\n",
        "\n",
        "        # Compute similarity\n",
        "        diff = torch.abs(embedding1 - embedding2)\n",
        "        return self.fc(diff)\n",
        "\n"
      ],
      "metadata": {
        "id": "f7RxNQ97Zmfv"
      },
      "execution_count": 25,
      "outputs": []
    },
    {
      "cell_type": "code",
      "source": [
        "class ContrastiveLoss(nn.Module):\n",
        "    def __init__(self, margin=1.0):\n",
        "        super(ContrastiveLoss, self).__init__()\n",
        "        self.margin = margin\n",
        "\n",
        "    def forward(self, output1, output2, label):\n",
        "        euclidean_distance = F.pairwise_distance(output1, output2)\n",
        "        loss = torch.mean((1 - label) * torch.pow(euclidean_distance, 2) +\n",
        "                          label * torch.pow(torch.clamp(self.margin - euclidean_distance, min=0.0), 2))\n",
        "        return loss\n"
      ],
      "metadata": {
        "id": "NK6bnpsGZmbR"
      },
      "execution_count": 26,
      "outputs": []
    },
    {
      "cell_type": "code",
      "source": [
        "# Data transformations\n",
        "transform = transforms.Compose([\n",
        "    transforms.Resize((224, 224)),\n",
        "    transforms.ToTensor(),\n",
        "    transforms.Normalize(mean=[0.485, 0.456, 0.406], std=[0.229, 0.224, 0.225])\n",
        "])\n",
        "\n",
        "# Split pairs into train, validation, and test sets\n",
        "#pairs, labels = ...  # Load or prepare your image pairs and labels here\n",
        "train_pairs, test_pairs, train_labels, test_labels = train_test_split(pairs,pair_labels, test_size=0.2, random_state=42)\n",
        "train_pairs, val_pairs, train_labels, val_labels = train_test_split(train_pairs, train_labels, test_size=0.25, random_state=42)\n",
        "\n",
        "# Datasets and DataLoaders\n",
        "train_dataset = ProductDataset(train_pairs, train_labels, transform=transform)\n",
        "val_dataset = ProductDataset(val_pairs, val_labels, transform=transform)\n",
        "test_dataset = ProductDataset(test_pairs, test_labels, transform=transform)\n",
        "\n",
        "train_loader = DataLoader(train_dataset, batch_size=32, shuffle=True)\n",
        "val_loader = DataLoader(val_dataset, batch_size=32, shuffle=False)\n",
        "test_loader = DataLoader(test_dataset, batch_size=32, shuffle=False)\n"
      ],
      "metadata": {
        "id": "uZtVWKexZmXI"
      },
      "execution_count": 27,
      "outputs": []
    },
    {
      "cell_type": "code",
      "source": [
        "# Load pretrained MobileNetV2 as feature extractor\n",
        "feature_extractor = models.mobilenet_v2(pretrained=True)\n",
        "feature_extractor = nn.Sequential(*list(feature_extractor.children())[:-1])  # Remove classifier\n",
        "embedding_dim = 1280  # MobileNetV2 output size\n",
        "device = torch.device(\"cuda\" if torch.cuda.is_available() else \"cpu\")\n",
        "\n",
        "# Initialize Siamese Network\n",
        "siamese_network = SiameseNetwork(feature_extractor, embedding_dim).to(device)\n",
        "\n",
        "# Loss and Optimizer\n",
        "criterion = nn.BCELoss()\n",
        "optimizer = optim.Adam(siamese_network.parameters(), lr=0.0001, weight_decay=1e-4)\n"
      ],
      "metadata": {
        "colab": {
          "base_uri": "https://localhost:8080/"
        },
        "id": "xufB_fxGZmTg",
        "outputId": "7fbbc29b-68cb-4daa-9470-01b97ebd4bde"
      },
      "execution_count": 28,
      "outputs": [
        {
          "output_type": "stream",
          "name": "stderr",
          "text": [
            "/usr/local/lib/python3.10/dist-packages/torchvision/models/_utils.py:208: UserWarning: The parameter 'pretrained' is deprecated since 0.13 and may be removed in the future, please use 'weights' instead.\n",
            "  warnings.warn(\n",
            "/usr/local/lib/python3.10/dist-packages/torchvision/models/_utils.py:223: UserWarning: Arguments other than a weight enum or `None` for 'weights' are deprecated since 0.13 and may be removed in the future. The current behavior is equivalent to passing `weights=MobileNet_V2_Weights.IMAGENET1K_V1`. You can also use `weights=MobileNet_V2_Weights.DEFAULT` to get the most up-to-date weights.\n",
            "  warnings.warn(msg)\n"
          ]
        }
      ]
    },
    {
      "cell_type": "code",
      "source": [
        "epochs = 10\n",
        "train_losses, val_losses = [], []\n",
        "\n",
        "for epoch in range(epochs):\n",
        "    # Training\n",
        "    siamese_network.train()\n",
        "    train_loss = 0.0\n",
        "    for img1, img2, labels in train_loader:\n",
        "        img1, img2, labels = img1.to(device), img2.to(device), labels.to(device)\n",
        "\n",
        "        # Forward pass\n",
        "        outputs = siamese_network(img1, img2).squeeze()\n",
        "        loss = criterion(outputs, labels)\n",
        "\n",
        "        # Backward pass and optimization\n",
        "        optimizer.zero_grad()\n",
        "        loss.backward()\n",
        "        optimizer.step()\n",
        "\n",
        "        train_loss += loss.item()\n",
        "\n",
        "    train_loss /= len(train_loader)\n",
        "    train_losses.append(train_loss)\n",
        "\n",
        "    # Validation\n",
        "    siamese_network.eval()\n",
        "    val_loss = 0.0\n",
        "    with torch.no_grad():\n",
        "        for img1, img2, labels in val_loader:\n",
        "            img1, img2, labels = img1.to(device), img2.to(device), labels.to(device)\n",
        "            outputs = siamese_network(img1, img2).squeeze()\n",
        "            loss = criterion(outputs, labels)\n",
        "            val_loss += loss.item()\n",
        "\n",
        "    val_loss /= len(val_loader)\n",
        "    val_losses.append(val_loss)\n",
        "\n",
        "    print(f\"Epoch {epoch+1}/{epochs}, Train Loss: {train_loss:.4f}, Val Loss: {val_loss:.4f}\")\n"
      ],
      "metadata": {
        "colab": {
          "base_uri": "https://localhost:8080/"
        },
        "id": "zmxAjLsrZmQA",
        "outputId": "9ca20b0f-e46a-491a-fc48-1f29b50d55d0"
      },
      "execution_count": 29,
      "outputs": [
        {
          "output_type": "stream",
          "name": "stdout",
          "text": [
            "Epoch 1/10, Train Loss: 0.3377, Val Loss: 0.0376\n",
            "Epoch 2/10, Train Loss: 0.0397, Val Loss: 0.0144\n",
            "Epoch 3/10, Train Loss: 0.0394, Val Loss: 0.0049\n",
            "Epoch 4/10, Train Loss: 0.0174, Val Loss: 0.0075\n",
            "Epoch 5/10, Train Loss: 0.0090, Val Loss: 0.0020\n",
            "Epoch 6/10, Train Loss: 0.0076, Val Loss: 0.0023\n",
            "Epoch 7/10, Train Loss: 0.0158, Val Loss: 0.0188\n",
            "Epoch 8/10, Train Loss: 0.0116, Val Loss: 0.0009\n",
            "Epoch 9/10, Train Loss: 0.0062, Val Loss: 0.0008\n",
            "Epoch 10/10, Train Loss: 0.0064, Val Loss: 0.0006\n"
          ]
        }
      ]
    },
    {
      "cell_type": "code",
      "source": [
        "plt.figure(figsize=(10, 6))\n",
        "plt.plot(range(1, epochs + 1), train_losses, label='Train Loss')\n",
        "plt.plot(range(1, epochs + 1), val_losses, label='Validation Loss')\n",
        "plt.xlabel('Epochs')\n",
        "plt.ylabel('Loss')\n",
        "plt.title('Training and Validation Loss')\n",
        "plt.legend()\n",
        "plt.grid(True)\n",
        "plt.show()\n"
      ],
      "metadata": {
        "colab": {
          "base_uri": "https://localhost:8080/",
          "height": 564
        },
        "id": "Q7q5ld0BZmMF",
        "outputId": "1fcb2739-abf5-40d7-b73b-6dbfe7cdadd1"
      },
      "execution_count": 30,
      "outputs": [
        {
          "output_type": "display_data",
          "data": {
            "text/plain": [
              "<Figure size 1000x600 with 1 Axes>"
            ],
            "image/png": "[encoded data removed]"
          },
          "metadata": {}
        }
      ]
    },
    {
      "cell_type": "code",
      "source": [
        "from sklearn.metrics import accuracy_score, precision_score, recall_score, f1_score\n",
        "\n",
        "def test_model(model, test_loader, threshold=0.5):\n",
        "    model.eval()  # Set the model to evaluation mode\n",
        "    true_labels = []\n",
        "    predicted_scores = []\n",
        "\n",
        "    with torch.no_grad():\n",
        "        for img1, img2, labels in test_loader:\n",
        "            img1, img2, labels = img1.to(device), img2.to(device), labels.to(device)\n",
        "\n",
        "            # Get similarity scores from the model\n",
        "            outputs = model(img1, img2).squeeze()\n",
        "            predicted_scores.extend(outputs.cpu().numpy())\n",
        "            true_labels.extend(labels.cpu().numpy())\n",
        "\n",
        "    # Convert predicted scores to binary predictions\n",
        "    predicted_labels = [1 if score > threshold else 0 for score in predicted_scores]\n",
        "\n",
        "    # Calculate metrics\n",
        "    accuracy = accuracy_score(true_labels, predicted_labels)\n",
        "    precision = precision_score(true_labels, predicted_labels)\n",
        "    recall = recall_score(true_labels, predicted_labels)\n",
        "    f1 = f1_score(true_labels, predicted_labels)\n",
        "\n",
        "    print(f\"Test Accuracy: {accuracy * 100:.2f}%\")\n",
        "    print(f\"Test Precision: {precision:.2f}\")\n",
        "    print(f\"Test Recall: {recall:.2f}\")\n",
        "    print(f\"Test F1-Score: {f1:.2f}\")\n",
        "\n",
        "    return accuracy, precision, recall, f1\n"
      ],
      "metadata": {
        "id": "zTChzaKKZmIm"
      },
      "execution_count": 31,
      "outputs": []
    },
    {
      "cell_type": "code",
      "source": [
        "# Assuming `siamese_network` is your trained model and `test_loader` is your DataLoader for test data\n",
        "test_accuracy, test_precision, test_recall, test_f1 = test_model(siamese_network, test_loader)\n"
      ],
      "metadata": {
        "colab": {
          "base_uri": "https://localhost:8080/"
        },
        "id": "ILWbp6O8ZmEU",
        "outputId": "0dafc774-05ef-4a91-ec53-b7b44becfd01"
      },
      "execution_count": 32,
      "outputs": [
        {
          "output_type": "stream",
          "name": "stdout",
          "text": [
            "Test Accuracy: 100.00%\n",
            "Test Precision: 1.00\n",
            "Test Recall: 1.00\n",
            "Test F1-Score: 1.00\n"
          ]
        }
      ]
    },
    {
      "cell_type": "code",
      "source": [
        "# Convert numpy arrays to tuples for compatibility with sets\n",
        "train_pairs_set = set([tuple(pair) for pair in train_pairs])\n",
        "val_pairs_set = set([tuple(pair) for pair in val_pairs])\n",
        "test_pairs_set = set([tuple(pair) for pair in test_pairs])\n",
        "\n",
        "# Check overlaps\n",
        "overlap_with_train = len(test_pairs_set.intersection(train_pairs_set))\n",
        "overlap_with_val = len(test_pairs_set.intersection(val_pairs_set))\n",
        "\n",
        "print(f\"Overlap with Training Set: {overlap_with_train}\")\n",
        "print(f\"Overlap with Validation Set: {overlap_with_val}\")\n"
      ],
      "metadata": {
        "colab": {
          "base_uri": "https://localhost:8080/"
        },
        "id": "DWramrCIZl8A",
        "outputId": "23a0d7be-354f-43a4-b6fe-babd9475d819"
      },
      "execution_count": 34,
      "outputs": [
        {
          "output_type": "stream",
          "name": "stdout",
          "text": [
            "Overlap with Training Set: 320\n",
            "Overlap with Validation Set: 121\n"
          ]
        }
      ]
    },
    {
      "cell_type": "code",
      "execution_count": null,
      "metadata": {
        "id": "7mVcrxaG_BMW"
      },
      "outputs": [],
      "source": [
        "torch.save(siamese_network.state_dict(), \"siamese_network_4.pth\")\n"
      ]
    },
    {
      "cell_type": "code",
      "execution_count": 35,
      "metadata": {
        "id": "5gAdxBjL_BMW",
        "colab": {
          "base_uri": "https://localhost:8080/"
        },
        "outputId": "162d106e-3542-4af1-cbce-9c0a1731eb23"
      },
      "outputs": [
        {
          "output_type": "execute_result",
          "data": {
            "text/plain": [
              "9000"
            ]
          },
          "metadata": {},
          "execution_count": 35
        }
      ],
      "source": [
        "len(train_pairs)"
      ]
    },
    {
      "cell_type": "code",
      "execution_count": 36,
      "metadata": {
        "id": "-dbRJ4lZ_BMW",
        "colab": {
          "base_uri": "https://localhost:8080/"
        },
        "outputId": "307a518d-490e-4ca2-8cee-2eba41ac9484"
      },
      "outputs": [
        {
          "output_type": "execute_result",
          "data": {
            "text/plain": [
              "3000"
            ]
          },
          "metadata": {},
          "execution_count": 36
        }
      ],
      "source": [
        "len(test_pairs)"
      ]
    },
    {
      "cell_type": "code",
      "source": [
        "len(validation_pa)"
      ],
      "metadata": {
        "id": "F0agWTXoAcB8"
      },
      "execution_count": null,
      "outputs": []
    }
  ],
  "metadata": {
    "colab": {
      "provenance": [],
      "gpuType": "L4"
    },
    "kernelspec": {
      "display_name": "Python 3",
      "name": "python3"
    },
    "language_info": {
      "codemirror_mode": {
        "name": "ipython",
        "version": 3
      },
      "file_extension": ".py",
      "mimetype": "text/x-python",
      "name": "python",
      "nbconvert_exporter": "python",
      "pygments_lexer": "ipython3",
      "version": "3.9.1"
    },
    "accelerator": "GPU"
  },
  "nbformat": 4,
  "nbformat_minor": 0
}