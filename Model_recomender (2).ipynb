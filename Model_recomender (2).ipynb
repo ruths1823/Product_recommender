{
  "cells": [
    {
      "cell_type": "code",
      "source": [
        "from google.colab import drive\n",
        "drive.mount('/content/drive')"
      ],
      "metadata": {
        "colab": {
          "base_uri": "https://localhost:8080/"
        },
        "id": "jzOnVJLd_JiJ",
        "outputId": "5d0e097b-391a-4f3f-f65d-6841800437a0"
      },
      "execution_count": 1,
      "outputs": [
        {
          "output_type": "stream",
          "name": "stdout",
          "text": [
            "Mounted at /content/drive\n"
          ]
        }
      ]
    },
    {
      "cell_type": "code",
      "execution_count": 2,
      "metadata": {
        "id": "5H9gvYjEDnwq"
      },
      "outputs": [],
      "source": [
        "import pandas as pd\n",
        "import os"
      ]
    },
    {
      "cell_type": "code",
      "source": [
        "file_path = '/content/drive/My Drive/final_cloth_img.csv'"
      ],
      "metadata": {
        "id": "hCfts0EZ_M9s"
      },
      "execution_count": 3,
      "outputs": []
    },
    {
      "cell_type": "code",
      "execution_count": 4,
      "metadata": {
        "id": "cK7-6OziLeIr"
      },
      "outputs": [],
      "source": [
        "#file_path = os.path.join('.','final_cloth_img.csv')"
      ]
    },
    {
      "cell_type": "code",
      "execution_count": 5,
      "metadata": {
        "id": "znDuMIJnDDhP"
      },
      "outputs": [],
      "source": [
        "#cloth_img=pd.read_csv(file_path)"
      ]
    },
    {
      "cell_type": "code",
      "source": [],
      "metadata": {
        "id": "M-GoXZ4eOXGB"
      },
      "execution_count": 5,
      "outputs": []
    },
    {
      "cell_type": "code",
      "source": [],
      "metadata": {
        "id": "498F4h6pOXXd"
      },
      "execution_count": 5,
      "outputs": []
    },
    {
      "cell_type": "code",
      "source": [
        "file_path = '/content/drive/My Drive/final_footwear_img_v2.csv'\n"
      ],
      "metadata": {
        "id": "iuuqF2Mz_RDk"
      },
      "execution_count": 6,
      "outputs": []
    },
    {
      "cell_type": "code",
      "source": [
        "footwear_img=pd.read_csv(file_path)"
      ],
      "metadata": {
        "id": "8wpj0YRT_VB4"
      },
      "execution_count": 7,
      "outputs": []
    },
    {
      "cell_type": "code",
      "execution_count": 8,
      "metadata": {
        "id": "oFL_6qKQLnRx"
      },
      "outputs": [],
      "source": [
        "\n",
        "# footwear_img=pd.read_csv('final_footwear_img.csv')"
      ]
    },
    {
      "cell_type": "code",
      "execution_count": 9,
      "metadata": {
        "id": "E9dd3xSlYTC8"
      },
      "outputs": [],
      "source": [
        "#folder_path=os.path.join('.','images')"
      ]
    },
    {
      "cell_type": "code",
      "source": [
        "folder_path='/content/drive/My Drive/images'"
      ],
      "metadata": {
        "id": "Zgq94WAi_YA1"
      },
      "execution_count": 10,
      "outputs": []
    },
    {
      "cell_type": "code",
      "execution_count": 11,
      "metadata": {
        "id": "_h50ydpbUHiO"
      },
      "outputs": [],
      "source": [
        "#imgs_df=pd.concat([cloth_img,footwear_img],ignore_index=True)"
      ]
    },
    {
      "cell_type": "code",
      "source": [
        "imgs_df=footwear_img"
      ],
      "metadata": {
        "id": "GpYY_C-hKBf0"
      },
      "execution_count": 12,
      "outputs": []
    },
    {
      "cell_type": "code",
      "execution_count": 13,
      "metadata": {
        "colab": {
          "base_uri": "https://localhost:8080/",
          "height": 423
        },
        "id": "8Wcuz9_kUR86",
        "outputId": "c21c579f-62c1-47e0-fa08-83db7ff75806"
      },
      "outputs": [
        {
          "output_type": "execute_result",
          "data": {
            "text/plain": [
              "        id masterCategory subCategory   articleType   filename\n",
              "0    30243       Footwear  Flip Flops    Flip Flops  30243.jpg\n",
              "1    16987       Footwear  Flip Flops    Flip Flops  16987.jpg\n",
              "2    17646       Footwear  Flip Flops    Flip Flops  17646.jpg\n",
              "3    15877       Footwear  Flip Flops    Flip Flops  15877.jpg\n",
              "4    12981       Footwear  Flip Flops    Flip Flops  12981.jpg\n",
              "..     ...            ...         ...           ...        ...\n",
              "952   7593       Footwear       Shoes  Sports Shoes   7593.jpg\n",
              "953  35713       Footwear       Shoes  Sports Shoes  35713.jpg\n",
              "954   4486       Footwear       Shoes  Sports Shoes   4486.jpg\n",
              "955  12693       Footwear       Shoes  Sports Shoes  12693.jpg\n",
              "956  35424       Footwear       Shoes  Sports Shoes  35424.jpg\n",
              "\n",
              "[957 rows x 5 columns]"
            ],
            "text/html": [
              "\n",
              "  <div id=\"df-5ebd9c73-b165-4a18-b84b-462c9574325a\" class=\"colab-df-container\">\n",
              "    <div>\n",
              "<style scoped>\n",
              "    .dataframe tbody tr th:only-of-type {\n",
              "        vertical-align: middle;\n",
              "    }\n",
              "\n",
              "    .dataframe tbody tr th {\n",
              "        vertical-align: top;\n",
              "    }\n",
              "\n",
              "    .dataframe thead th {\n",
              "        text-align: right;\n",
              "    }\n",
              "</style>\n",
              "<table border=\"1\" class=\"dataframe\">\n",
              "  <thead>\n",
              "    <tr style=\"text-align: right;\">\n",
              "      <th></th>\n",
              "      <th>id</th>\n",
              "      <th>masterCategory</th>\n",
              "      <th>subCategory</th>\n",
              "      <th>articleType</th>\n",
              "      <th>filename</th>\n",
              "    </tr>\n",
              "  </thead>\n",
              "  <tbody>\n",
              "    <tr>\n",
              "      <th>0</th>\n",
              "      <td>30243</td>\n",
              "      <td>Footwear</td>\n",
              "      <td>Flip Flops</td>\n",
              "      <td>Flip Flops</td>\n",
              "      <td>30243.jpg</td>\n",
              "    </tr>\n",
              "    <tr>\n",
              "      <th>1</th>\n",
              "      <td>16987</td>\n",
              "      <td>Footwear</td>\n",
              "      <td>Flip Flops</td>\n",
              "      <td>Flip Flops</td>\n",
              "      <td>16987.jpg</td>\n",
              "    </tr>\n",
              "    <tr>\n",
              "      <th>2</th>\n",
              "      <td>17646</td>\n",
              "      <td>Footwear</td>\n",
              "      <td>Flip Flops</td>\n",
              "      <td>Flip Flops</td>\n",
              "      <td>17646.jpg</td>\n",
              "    </tr>\n",
              "    <tr>\n",
              "      <th>3</th>\n",
              "      <td>15877</td>\n",
              "      <td>Footwear</td>\n",
              "      <td>Flip Flops</td>\n",
              "      <td>Flip Flops</td>\n",
              "      <td>15877.jpg</td>\n",
              "    </tr>\n",
              "    <tr>\n",
              "      <th>4</th>\n",
              "      <td>12981</td>\n",
              "      <td>Footwear</td>\n",
              "      <td>Flip Flops</td>\n",
              "      <td>Flip Flops</td>\n",
              "      <td>12981.jpg</td>\n",
              "    </tr>\n",
              "    <tr>\n",
              "      <th>...</th>\n",
              "      <td>...</td>\n",
              "      <td>...</td>\n",
              "      <td>...</td>\n",
              "      <td>...</td>\n",
              "      <td>...</td>\n",
              "    </tr>\n",
              "    <tr>\n",
              "      <th>952</th>\n",
              "      <td>7593</td>\n",
              "      <td>Footwear</td>\n",
              "      <td>Shoes</td>\n",
              "      <td>Sports Shoes</td>\n",
              "      <td>7593.jpg</td>\n",
              "    </tr>\n",
              "    <tr>\n",
              "      <th>953</th>\n",
              "      <td>35713</td>\n",
              "      <td>Footwear</td>\n",
              "      <td>Shoes</td>\n",
              "      <td>Sports Shoes</td>\n",
              "      <td>35713.jpg</td>\n",
              "    </tr>\n",
              "    <tr>\n",
              "      <th>954</th>\n",
              "      <td>4486</td>\n",
              "      <td>Footwear</td>\n",
              "      <td>Shoes</td>\n",
              "      <td>Sports Shoes</td>\n",
              "      <td>4486.jpg</td>\n",
              "    </tr>\n",
              "    <tr>\n",
              "      <th>955</th>\n",
              "      <td>12693</td>\n",
              "      <td>Footwear</td>\n",
              "      <td>Shoes</td>\n",
              "      <td>Sports Shoes</td>\n",
              "      <td>12693.jpg</td>\n",
              "    </tr>\n",
              "    <tr>\n",
              "      <th>956</th>\n",
              "      <td>35424</td>\n",
              "      <td>Footwear</td>\n",
              "      <td>Shoes</td>\n",
              "      <td>Sports Shoes</td>\n",
              "      <td>35424.jpg</td>\n",
              "    </tr>\n",
              "  </tbody>\n",
              "</table>\n",
              "<p>957 rows × 5 columns</p>\n",
              "</div>\n",
              "    <div class=\"colab-df-buttons\">\n",
              "\n",
              "  <div class=\"colab-df-container\">\n",
              "    <button class=\"colab-df-convert\" onclick=\"convertToInteractive('df-5ebd9c73-b165-4a18-b84b-462c9574325a')\"\n",
              "            title=\"Convert this dataframe to an interactive table.\"\n",
              "            style=\"display:none;\">\n",
              "\n",
              "  <svg xmlns=\"http://www.w3.org/2000/svg\" height=\"24px\" viewBox=\"0 -960 960 960\">\n",
              "    <path d=\"M120-120v-720h720v720H120Zm60-500h600v-160H180v160Zm220 220h160v-160H400v160Zm0 220h160v-160H400v160ZM180-400h160v-160H180v160Zm440 0h160v-160H620v160ZM180-180h160v-160H180v160Zm440 0h160v-160H620v160Z\"/>\n",
              "  </svg>\n",
              "    </button>\n",
              "\n",
              "  <style>\n",
              "    .colab-df-container {\n",
              "      display:flex;\n",
              "      gap: 12px;\n",
              "    }\n",
              "\n",
              "    .colab-df-convert {\n",
              "      background-color: #E8F0FE;\n",
              "      border: none;\n",
              "      border-radius: 50%;\n",
              "      cursor: pointer;\n",
              "      display: none;\n",
              "      fill: #1967D2;\n",
              "      height: 32px;\n",
              "      padding: 0 0 0 0;\n",
              "      width: 32px;\n",
              "    }\n",
              "\n",
              "    .colab-df-convert:hover {\n",
              "      background-color: #E2EBFA;\n",
              "      box-shadow: 0px 1px 2px rgba(60, 64, 67, 0.3), 0px 1px 3px 1px rgba(60, 64, 67, 0.15);\n",
              "      fill: #174EA6;\n",
              "    }\n",
              "\n",
              "    .colab-df-buttons div {\n",
              "      margin-bottom: 4px;\n",
              "    }\n",
              "\n",
              "    [theme=dark] .colab-df-convert {\n",
              "      background-color: #3B4455;\n",
              "      fill: #D2E3FC;\n",
              "    }\n",
              "\n",
              "    [theme=dark] .colab-df-convert:hover {\n",
              "      background-color: #434B5C;\n",
              "      box-shadow: 0px 1px 3px 1px rgba(0, 0, 0, 0.15);\n",
              "      filter: drop-shadow(0px 1px 2px rgba(0, 0, 0, 0.3));\n",
              "      fill: #FFFFFF;\n",
              "    }\n",
              "  </style>\n",
              "\n",
              "    <script>\n",
              "      const buttonEl =\n",
              "        document.querySelector('#df-5ebd9c73-b165-4a18-b84b-462c9574325a button.colab-df-convert');\n",
              "      buttonEl.style.display =\n",
              "        google.colab.kernel.accessAllowed ? 'block' : 'none';\n",
              "\n",
              "      async function convertToInteractive(key) {\n",
              "        const element = document.querySelector('#df-5ebd9c73-b165-4a18-b84b-462c9574325a');\n",
              "        const dataTable =\n",
              "          await google.colab.kernel.invokeFunction('convertToInteractive',\n",
              "                                                    [key], {});\n",
              "        if (!dataTable) return;\n",
              "\n",
              "        const docLinkHtml = 'Like what you see? Visit the ' +\n",
              "          '<a target=\"_blank\" href=https://colab.research.google.com/notebooks/data_table.ipynb>data table notebook</a>'\n",
              "          + ' to learn more about interactive tables.';\n",
              "        element.innerHTML = '';\n",
              "        dataTable['output_type'] = 'display_data';\n",
              "        await google.colab.output.renderOutput(dataTable, element);\n",
              "        const docLink = document.createElement('div');\n",
              "        docLink.innerHTML = docLinkHtml;\n",
              "        element.appendChild(docLink);\n",
              "      }\n",
              "    </script>\n",
              "  </div>\n",
              "\n",
              "\n",
              "<div id=\"df-eb0c8606-5542-4509-b096-df6c814bbe4a\">\n",
              "  <button class=\"colab-df-quickchart\" onclick=\"quickchart('df-eb0c8606-5542-4509-b096-df6c814bbe4a')\"\n",
              "            title=\"Suggest charts\"\n",
              "            style=\"display:none;\">\n",
              "\n",
              "<svg xmlns=\"http://www.w3.org/2000/svg\" height=\"24px\"viewBox=\"0 0 24 24\"\n",
              "     width=\"24px\">\n",
              "    <g>\n",
              "        <path d=\"M19 3H5c-1.1 0-2 .9-2 2v14c0 1.1.9 2 2 2h14c1.1 0 2-.9 2-2V5c0-1.1-.9-2-2-2zM9 17H7v-7h2v7zm4 0h-2V7h2v10zm4 0h-2v-4h2v4z\"/>\n",
              "    </g>\n",
              "</svg>\n",
              "  </button>\n",
              "\n",
              "<style>\n",
              "  .colab-df-quickchart {\n",
              "      --bg-color: #E8F0FE;\n",
              "      --fill-color: #1967D2;\n",
              "      --hover-bg-color: #E2EBFA;\n",
              "      --hover-fill-color: #174EA6;\n",
              "      --disabled-fill-color: #AAA;\n",
              "      --disabled-bg-color: #DDD;\n",
              "  }\n",
              "\n",
              "  [theme=dark] .colab-df-quickchart {\n",
              "      --bg-color: #3B4455;\n",
              "      --fill-color: #D2E3FC;\n",
              "      --hover-bg-color: #434B5C;\n",
              "      --hover-fill-color: #FFFFFF;\n",
              "      --disabled-bg-color: #3B4455;\n",
              "      --disabled-fill-color: #666;\n",
              "  }\n",
              "\n",
              "  .colab-df-quickchart {\n",
              "    background-color: var(--bg-color);\n",
              "    border: none;\n",
              "    border-radius: 50%;\n",
              "    cursor: pointer;\n",
              "    display: none;\n",
              "    fill: var(--fill-color);\n",
              "    height: 32px;\n",
              "    padding: 0;\n",
              "    width: 32px;\n",
              "  }\n",
              "\n",
              "  .colab-df-quickchart:hover {\n",
              "    background-color: var(--hover-bg-color);\n",
              "    box-shadow: 0 1px 2px rgba(60, 64, 67, 0.3), 0 1px 3px 1px rgba(60, 64, 67, 0.15);\n",
              "    fill: var(--button-hover-fill-color);\n",
              "  }\n",
              "\n",
              "  .colab-df-quickchart-complete:disabled,\n",
              "  .colab-df-quickchart-complete:disabled:hover {\n",
              "    background-color: var(--disabled-bg-color);\n",
              "    fill: var(--disabled-fill-color);\n",
              "    box-shadow: none;\n",
              "  }\n",
              "\n",
              "  .colab-df-spinner {\n",
              "    border: 2px solid var(--fill-color);\n",
              "    border-color: transparent;\n",
              "    border-bottom-color: var(--fill-color);\n",
              "    animation:\n",
              "      spin 1s steps(1) infinite;\n",
              "  }\n",
              "\n",
              "  @keyframes spin {\n",
              "    0% {\n",
              "      border-color: transparent;\n",
              "      border-bottom-color: var(--fill-color);\n",
              "      border-left-color: var(--fill-color);\n",
              "    }\n",
              "    20% {\n",
              "      border-color: transparent;\n",
              "      border-left-color: var(--fill-color);\n",
              "      border-top-color: var(--fill-color);\n",
              "    }\n",
              "    30% {\n",
              "      border-color: transparent;\n",
              "      border-left-color: var(--fill-color);\n",
              "      border-top-color: var(--fill-color);\n",
              "      border-right-color: var(--fill-color);\n",
              "    }\n",
              "    40% {\n",
              "      border-color: transparent;\n",
              "      border-right-color: var(--fill-color);\n",
              "      border-top-color: var(--fill-color);\n",
              "    }\n",
              "    60% {\n",
              "      border-color: transparent;\n",
              "      border-right-color: var(--fill-color);\n",
              "    }\n",
              "    80% {\n",
              "      border-color: transparent;\n",
              "      border-right-color: var(--fill-color);\n",
              "      border-bottom-color: var(--fill-color);\n",
              "    }\n",
              "    90% {\n",
              "      border-color: transparent;\n",
              "      border-bottom-color: var(--fill-color);\n",
              "    }\n",
              "  }\n",
              "</style>\n",
              "\n",
              "  <script>\n",
              "    async function quickchart(key) {\n",
              "      const quickchartButtonEl =\n",
              "        document.querySelector('#' + key + ' button');\n",
              "      quickchartButtonEl.disabled = true;  // To prevent multiple clicks.\n",
              "      quickchartButtonEl.classList.add('colab-df-spinner');\n",
              "      try {\n",
              "        const charts = await google.colab.kernel.invokeFunction(\n",
              "            'suggestCharts', [key], {});\n",
              "      } catch (error) {\n",
              "        console.error('Error during call to suggestCharts:', error);\n",
              "      }\n",
              "      quickchartButtonEl.classList.remove('colab-df-spinner');\n",
              "      quickchartButtonEl.classList.add('colab-df-quickchart-complete');\n",
              "    }\n",
              "    (() => {\n",
              "      let quickchartButtonEl =\n",
              "        document.querySelector('#df-eb0c8606-5542-4509-b096-df6c814bbe4a button');\n",
              "      quickchartButtonEl.style.display =\n",
              "        google.colab.kernel.accessAllowed ? 'block' : 'none';\n",
              "    })();\n",
              "  </script>\n",
              "</div>\n",
              "\n",
              "  <div id=\"id_6bcf3344-6a8e-4cd9-ba98-ce0eb7c02b35\">\n",
              "    <style>\n",
              "      .colab-df-generate {\n",
              "        background-color: #E8F0FE;\n",
              "        border: none;\n",
              "        border-radius: 50%;\n",
              "        cursor: pointer;\n",
              "        display: none;\n",
              "        fill: #1967D2;\n",
              "        height: 32px;\n",
              "        padding: 0 0 0 0;\n",
              "        width: 32px;\n",
              "      }\n",
              "\n",
              "      .colab-df-generate:hover {\n",
              "        background-color: #E2EBFA;\n",
              "        box-shadow: 0px 1px 2px rgba(60, 64, 67, 0.3), 0px 1px 3px 1px rgba(60, 64, 67, 0.15);\n",
              "        fill: #174EA6;\n",
              "      }\n",
              "\n",
              "      [theme=dark] .colab-df-generate {\n",
              "        background-color: #3B4455;\n",
              "        fill: #D2E3FC;\n",
              "      }\n",
              "\n",
              "      [theme=dark] .colab-df-generate:hover {\n",
              "        background-color: #434B5C;\n",
              "        box-shadow: 0px 1px 3px 1px rgba(0, 0, 0, 0.15);\n",
              "        filter: drop-shadow(0px 1px 2px rgba(0, 0, 0, 0.3));\n",
              "        fill: #FFFFFF;\n",
              "      }\n",
              "    </style>\n",
              "    <button class=\"colab-df-generate\" onclick=\"generateWithVariable('footwear_img')\"\n",
              "            title=\"Generate code using this dataframe.\"\n",
              "            style=\"display:none;\">\n",
              "\n",
              "  <svg xmlns=\"http://www.w3.org/2000/svg\" height=\"24px\"viewBox=\"0 0 24 24\"\n",
              "       width=\"24px\">\n",
              "    <path d=\"M7,19H8.4L18.45,9,17,7.55,7,17.6ZM5,21V16.75L18.45,3.32a2,2,0,0,1,2.83,0l1.4,1.43a1.91,1.91,0,0,1,.58,1.4,1.91,1.91,0,0,1-.58,1.4L9.25,21ZM18.45,9,17,7.55Zm-12,3A5.31,5.31,0,0,0,4.9,8.1,5.31,5.31,0,0,0,1,6.5,5.31,5.31,0,0,0,4.9,4.9,5.31,5.31,0,0,0,6.5,1,5.31,5.31,0,0,0,8.1,4.9,5.31,5.31,0,0,0,12,6.5,5.46,5.46,0,0,0,6.5,12Z\"/>\n",
              "  </svg>\n",
              "    </button>\n",
              "    <script>\n",
              "      (() => {\n",
              "      const buttonEl =\n",
              "        document.querySelector('#id_6bcf3344-6a8e-4cd9-ba98-ce0eb7c02b35 button.colab-df-generate');\n",
              "      buttonEl.style.display =\n",
              "        google.colab.kernel.accessAllowed ? 'block' : 'none';\n",
              "\n",
              "      buttonEl.onclick = () => {\n",
              "        google.colab.notebook.generateWithVariable('footwear_img');\n",
              "      }\n",
              "      })();\n",
              "    </script>\n",
              "  </div>\n",
              "\n",
              "    </div>\n",
              "  </div>\n"
            ],
            "application/vnd.google.colaboratory.intrinsic+json": {
              "type": "dataframe",
              "variable_name": "footwear_img",
              "summary": "{\n  \"name\": \"footwear_img\",\n  \"rows\": 957,\n  \"fields\": [\n    {\n      \"column\": \"id\",\n      \"properties\": {\n        \"dtype\": \"number\",\n        \"std\": 15859,\n        \"min\": 1571,\n        \"max\": 59935,\n        \"num_unique_values\": 957,\n        \"samples\": [\n          6628,\n          13685,\n          39958\n        ],\n        \"semantic_type\": \"\",\n        \"description\": \"\"\n      }\n    },\n    {\n      \"column\": \"masterCategory\",\n      \"properties\": {\n        \"dtype\": \"category\",\n        \"num_unique_values\": 1,\n        \"samples\": [\n          \"Footwear\"\n        ],\n        \"semantic_type\": \"\",\n        \"description\": \"\"\n      }\n    },\n    {\n      \"column\": \"subCategory\",\n      \"properties\": {\n        \"dtype\": \"category\",\n        \"num_unique_values\": 3,\n        \"samples\": [\n          \"Flip Flops\"\n        ],\n        \"semantic_type\": \"\",\n        \"description\": \"\"\n      }\n    },\n    {\n      \"column\": \"articleType\",\n      \"properties\": {\n        \"dtype\": \"category\",\n        \"num_unique_values\": 5,\n        \"samples\": [\n          \"Sandals\"\n        ],\n        \"semantic_type\": \"\",\n        \"description\": \"\"\n      }\n    },\n    {\n      \"column\": \"filename\",\n      \"properties\": {\n        \"dtype\": \"string\",\n        \"num_unique_values\": 957,\n        \"samples\": [\n          \"6628.jpg\"\n        ],\n        \"semantic_type\": \"\",\n        \"description\": \"\"\n      }\n    }\n  ]\n}"
            }
          },
          "metadata": {},
          "execution_count": 13
        }
      ],
      "source": [
        "imgs_df"
      ]
    },
    {
      "cell_type": "code",
      "source": [
        "\n",
        "ids_to_drop = [4282,7217,10804]\n",
        "imgs_df = imgs_df[~imgs_df['id'].isin(ids_to_drop)]\n"
      ],
      "metadata": {
        "id": "dDvyO24g1bXa"
      },
      "execution_count": 14,
      "outputs": []
    },
    {
      "cell_type": "code",
      "execution_count": 15,
      "metadata": {
        "id": "BiNduso3UvUz",
        "colab": {
          "base_uri": "https://localhost:8080/"
        },
        "outputId": "81d4d7e3-6911-41a6-a13c-fe7a8e38cbdb"
      },
      "outputs": [
        {
          "output_type": "stream",
          "name": "stderr",
          "text": [
            "<ipython-input-15-011d060e7fc4>:1: SettingWithCopyWarning: \n",
            "A value is trying to be set on a copy of a slice from a DataFrame.\n",
            "Try using .loc[row_indexer,col_indexer] = value instead\n",
            "\n",
            "See the caveats in the documentation: https://pandas.pydata.org/pandas-docs/stable/user_guide/indexing.html#returning-a-view-versus-a-copy\n",
            "  imgs_df['label']=imgs_df['masterCategory']+'_'+imgs_df['subCategory']+'_'+imgs_df['articleType']\n"
          ]
        }
      ],
      "source": [
        "imgs_df['label']=imgs_df['masterCategory']+'_'+imgs_df['subCategory']+'_'+imgs_df['articleType']"
      ]
    },
    {
      "cell_type": "code",
      "execution_count": 16,
      "metadata": {
        "colab": {
          "base_uri": "https://localhost:8080/",
          "height": 206
        },
        "id": "BP2YGkhpVGie",
        "outputId": "265aceb3-11d0-4b60-aef7-c854790d2541"
      },
      "outputs": [
        {
          "output_type": "execute_result",
          "data": {
            "text/plain": [
              "      id masterCategory subCategory articleType   filename  \\\n",
              "0  30243       Footwear  Flip Flops  Flip Flops  30243.jpg   \n",
              "1  16987       Footwear  Flip Flops  Flip Flops  16987.jpg   \n",
              "2  17646       Footwear  Flip Flops  Flip Flops  17646.jpg   \n",
              "3  15877       Footwear  Flip Flops  Flip Flops  15877.jpg   \n",
              "4  12981       Footwear  Flip Flops  Flip Flops  12981.jpg   \n",
              "\n",
              "                            label  \n",
              "0  Footwear_Flip Flops_Flip Flops  \n",
              "1  Footwear_Flip Flops_Flip Flops  \n",
              "2  Footwear_Flip Flops_Flip Flops  \n",
              "3  Footwear_Flip Flops_Flip Flops  \n",
              "4  Footwear_Flip Flops_Flip Flops  "
            ],
            "text/html": [
              "\n",
              "  <div id=\"df-9f9ff195-a988-4c55-8f8d-1f06092d422a\" class=\"colab-df-container\">\n",
              "    <div>\n",
              "<style scoped>\n",
              "    .dataframe tbody tr th:only-of-type {\n",
              "        vertical-align: middle;\n",
              "    }\n",
              "\n",
              "    .dataframe tbody tr th {\n",
              "        vertical-align: top;\n",
              "    }\n",
              "\n",
              "    .dataframe thead th {\n",
              "        text-align: right;\n",
              "    }\n",
              "</style>\n",
              "<table border=\"1\" class=\"dataframe\">\n",
              "  <thead>\n",
              "    <tr style=\"text-align: right;\">\n",
              "      <th></th>\n",
              "      <th>id</th>\n",
              "      <th>masterCategory</th>\n",
              "      <th>subCategory</th>\n",
              "      <th>articleType</th>\n",
              "      <th>filename</th>\n",
              "      <th>label</th>\n",
              "    </tr>\n",
              "  </thead>\n",
              "  <tbody>\n",
              "    <tr>\n",
              "      <th>0</th>\n",
              "      <td>30243</td>\n",
              "      <td>Footwear</td>\n",
              "      <td>Flip Flops</td>\n",
              "      <td>Flip Flops</td>\n",
              "      <td>30243.jpg</td>\n",
              "      <td>Footwear_Flip Flops_Flip Flops</td>\n",
              "    </tr>\n",
              "    <tr>\n",
              "      <th>1</th>\n",
              "      <td>16987</td>\n",
              "      <td>Footwear</td>\n",
              "      <td>Flip Flops</td>\n",
              "      <td>Flip Flops</td>\n",
              "      <td>16987.jpg</td>\n",
              "      <td>Footwear_Flip Flops_Flip Flops</td>\n",
              "    </tr>\n",
              "    <tr>\n",
              "      <th>2</th>\n",
              "      <td>17646</td>\n",
              "      <td>Footwear</td>\n",
              "      <td>Flip Flops</td>\n",
              "      <td>Flip Flops</td>\n",
              "      <td>17646.jpg</td>\n",
              "      <td>Footwear_Flip Flops_Flip Flops</td>\n",
              "    </tr>\n",
              "    <tr>\n",
              "      <th>3</th>\n",
              "      <td>15877</td>\n",
              "      <td>Footwear</td>\n",
              "      <td>Flip Flops</td>\n",
              "      <td>Flip Flops</td>\n",
              "      <td>15877.jpg</td>\n",
              "      <td>Footwear_Flip Flops_Flip Flops</td>\n",
              "    </tr>\n",
              "    <tr>\n",
              "      <th>4</th>\n",
              "      <td>12981</td>\n",
              "      <td>Footwear</td>\n",
              "      <td>Flip Flops</td>\n",
              "      <td>Flip Flops</td>\n",
              "      <td>12981.jpg</td>\n",
              "      <td>Footwear_Flip Flops_Flip Flops</td>\n",
              "    </tr>\n",
              "  </tbody>\n",
              "</table>\n",
              "</div>\n",
              "    <div class=\"colab-df-buttons\">\n",
              "\n",
              "  <div class=\"colab-df-container\">\n",
              "    <button class=\"colab-df-convert\" onclick=\"convertToInteractive('df-9f9ff195-a988-4c55-8f8d-1f06092d422a')\"\n",
              "            title=\"Convert this dataframe to an interactive table.\"\n",
              "            style=\"display:none;\">\n",
              "\n",
              "  <svg xmlns=\"http://www.w3.org/2000/svg\" height=\"24px\" viewBox=\"0 -960 960 960\">\n",
              "    <path d=\"M120-120v-720h720v720H120Zm60-500h600v-160H180v160Zm220 220h160v-160H400v160Zm0 220h160v-160H400v160ZM180-400h160v-160H180v160Zm440 0h160v-160H620v160ZM180-180h160v-160H180v160Zm440 0h160v-160H620v160Z\"/>\n",
              "  </svg>\n",
              "    </button>\n",
              "\n",
              "  <style>\n",
              "    .colab-df-container {\n",
              "      display:flex;\n",
              "      gap: 12px;\n",
              "    }\n",
              "\n",
              "    .colab-df-convert {\n",
              "      background-color: #E8F0FE;\n",
              "      border: none;\n",
              "      border-radius: 50%;\n",
              "      cursor: pointer;\n",
              "      display: none;\n",
              "      fill: #1967D2;\n",
              "      height: 32px;\n",
              "      padding: 0 0 0 0;\n",
              "      width: 32px;\n",
              "    }\n",
              "\n",
              "    .colab-df-convert:hover {\n",
              "      background-color: #E2EBFA;\n",
              "      box-shadow: 0px 1px 2px rgba(60, 64, 67, 0.3), 0px 1px 3px 1px rgba(60, 64, 67, 0.15);\n",
              "      fill: #174EA6;\n",
              "    }\n",
              "\n",
              "    .colab-df-buttons div {\n",
              "      margin-bottom: 4px;\n",
              "    }\n",
              "\n",
              "    [theme=dark] .colab-df-convert {\n",
              "      background-color: #3B4455;\n",
              "      fill: #D2E3FC;\n",
              "    }\n",
              "\n",
              "    [theme=dark] .colab-df-convert:hover {\n",
              "      background-color: #434B5C;\n",
              "      box-shadow: 0px 1px 3px 1px rgba(0, 0, 0, 0.15);\n",
              "      filter: drop-shadow(0px 1px 2px rgba(0, 0, 0, 0.3));\n",
              "      fill: #FFFFFF;\n",
              "    }\n",
              "  </style>\n",
              "\n",
              "    <script>\n",
              "      const buttonEl =\n",
              "        document.querySelector('#df-9f9ff195-a988-4c55-8f8d-1f06092d422a button.colab-df-convert');\n",
              "      buttonEl.style.display =\n",
              "        google.colab.kernel.accessAllowed ? 'block' : 'none';\n",
              "\n",
              "      async function convertToInteractive(key) {\n",
              "        const element = document.querySelector('#df-9f9ff195-a988-4c55-8f8d-1f06092d422a');\n",
              "        const dataTable =\n",
              "          await google.colab.kernel.invokeFunction('convertToInteractive',\n",
              "                                                    [key], {});\n",
              "        if (!dataTable) return;\n",
              "\n",
              "        const docLinkHtml = 'Like what you see? Visit the ' +\n",
              "          '<a target=\"_blank\" href=https://colab.research.google.com/notebooks/data_table.ipynb>data table notebook</a>'\n",
              "          + ' to learn more about interactive tables.';\n",
              "        element.innerHTML = '';\n",
              "        dataTable['output_type'] = 'display_data';\n",
              "        await google.colab.output.renderOutput(dataTable, element);\n",
              "        const docLink = document.createElement('div');\n",
              "        docLink.innerHTML = docLinkHtml;\n",
              "        element.appendChild(docLink);\n",
              "      }\n",
              "    </script>\n",
              "  </div>\n",
              "\n",
              "\n",
              "<div id=\"df-cac977b9-e938-4045-ac8e-cd6d7454ad15\">\n",
              "  <button class=\"colab-df-quickchart\" onclick=\"quickchart('df-cac977b9-e938-4045-ac8e-cd6d7454ad15')\"\n",
              "            title=\"Suggest charts\"\n",
              "            style=\"display:none;\">\n",
              "\n",
              "<svg xmlns=\"http://www.w3.org/2000/svg\" height=\"24px\"viewBox=\"0 0 24 24\"\n",
              "     width=\"24px\">\n",
              "    <g>\n",
              "        <path d=\"M19 3H5c-1.1 0-2 .9-2 2v14c0 1.1.9 2 2 2h14c1.1 0 2-.9 2-2V5c0-1.1-.9-2-2-2zM9 17H7v-7h2v7zm4 0h-2V7h2v10zm4 0h-2v-4h2v4z\"/>\n",
              "    </g>\n",
              "</svg>\n",
              "  </button>\n",
              "\n",
              "<style>\n",
              "  .colab-df-quickchart {\n",
              "      --bg-color: #E8F0FE;\n",
              "      --fill-color: #1967D2;\n",
              "      --hover-bg-color: #E2EBFA;\n",
              "      --hover-fill-color: #174EA6;\n",
              "      --disabled-fill-color: #AAA;\n",
              "      --disabled-bg-color: #DDD;\n",
              "  }\n",
              "\n",
              "  [theme=dark] .colab-df-quickchart {\n",
              "      --bg-color: #3B4455;\n",
              "      --fill-color: #D2E3FC;\n",
              "      --hover-bg-color: #434B5C;\n",
              "      --hover-fill-color: #FFFFFF;\n",
              "      --disabled-bg-color: #3B4455;\n",
              "      --disabled-fill-color: #666;\n",
              "  }\n",
              "\n",
              "  .colab-df-quickchart {\n",
              "    background-color: var(--bg-color);\n",
              "    border: none;\n",
              "    border-radius: 50%;\n",
              "    cursor: pointer;\n",
              "    display: none;\n",
              "    fill: var(--fill-color);\n",
              "    height: 32px;\n",
              "    padding: 0;\n",
              "    width: 32px;\n",
              "  }\n",
              "\n",
              "  .colab-df-quickchart:hover {\n",
              "    background-color: var(--hover-bg-color);\n",
              "    box-shadow: 0 1px 2px rgba(60, 64, 67, 0.3), 0 1px 3px 1px rgba(60, 64, 67, 0.15);\n",
              "    fill: var(--button-hover-fill-color);\n",
              "  }\n",
              "\n",
              "  .colab-df-quickchart-complete:disabled,\n",
              "  .colab-df-quickchart-complete:disabled:hover {\n",
              "    background-color: var(--disabled-bg-color);\n",
              "    fill: var(--disabled-fill-color);\n",
              "    box-shadow: none;\n",
              "  }\n",
              "\n",
              "  .colab-df-spinner {\n",
              "    border: 2px solid var(--fill-color);\n",
              "    border-color: transparent;\n",
              "    border-bottom-color: var(--fill-color);\n",
              "    animation:\n",
              "      spin 1s steps(1) infinite;\n",
              "  }\n",
              "\n",
              "  @keyframes spin {\n",
              "    0% {\n",
              "      border-color: transparent;\n",
              "      border-bottom-color: var(--fill-color);\n",
              "      border-left-color: var(--fill-color);\n",
              "    }\n",
              "    20% {\n",
              "      border-color: transparent;\n",
              "      border-left-color: var(--fill-color);\n",
              "      border-top-color: var(--fill-color);\n",
              "    }\n",
              "    30% {\n",
              "      border-color: transparent;\n",
              "      border-left-color: var(--fill-color);\n",
              "      border-top-color: var(--fill-color);\n",
              "      border-right-color: var(--fill-color);\n",
              "    }\n",
              "    40% {\n",
              "      border-color: transparent;\n",
              "      border-right-color: var(--fill-color);\n",
              "      border-top-color: var(--fill-color);\n",
              "    }\n",
              "    60% {\n",
              "      border-color: transparent;\n",
              "      border-right-color: var(--fill-color);\n",
              "    }\n",
              "    80% {\n",
              "      border-color: transparent;\n",
              "      border-right-color: var(--fill-color);\n",
              "      border-bottom-color: var(--fill-color);\n",
              "    }\n",
              "    90% {\n",
              "      border-color: transparent;\n",
              "      border-bottom-color: var(--fill-color);\n",
              "    }\n",
              "  }\n",
              "</style>\n",
              "\n",
              "  <script>\n",
              "    async function quickchart(key) {\n",
              "      const quickchartButtonEl =\n",
              "        document.querySelector('#' + key + ' button');\n",
              "      quickchartButtonEl.disabled = true;  // To prevent multiple clicks.\n",
              "      quickchartButtonEl.classList.add('colab-df-spinner');\n",
              "      try {\n",
              "        const charts = await google.colab.kernel.invokeFunction(\n",
              "            'suggestCharts', [key], {});\n",
              "      } catch (error) {\n",
              "        console.error('Error during call to suggestCharts:', error);\n",
              "      }\n",
              "      quickchartButtonEl.classList.remove('colab-df-spinner');\n",
              "      quickchartButtonEl.classList.add('colab-df-quickchart-complete');\n",
              "    }\n",
              "    (() => {\n",
              "      let quickchartButtonEl =\n",
              "        document.querySelector('#df-cac977b9-e938-4045-ac8e-cd6d7454ad15 button');\n",
              "      quickchartButtonEl.style.display =\n",
              "        google.colab.kernel.accessAllowed ? 'block' : 'none';\n",
              "    })();\n",
              "  </script>\n",
              "</div>\n",
              "\n",
              "    </div>\n",
              "  </div>\n"
            ],
            "application/vnd.google.colaboratory.intrinsic+json": {
              "type": "dataframe",
              "variable_name": "imgs_df",
              "summary": "{\n  \"name\": \"imgs_df\",\n  \"rows\": 954,\n  \"fields\": [\n    {\n      \"column\": \"id\",\n      \"properties\": {\n        \"dtype\": \"number\",\n        \"std\": 15853,\n        \"min\": 1571,\n        \"max\": 59935,\n        \"num_unique_values\": 954,\n        \"samples\": [\n          31980,\n          44492,\n          7326\n        ],\n        \"semantic_type\": \"\",\n        \"description\": \"\"\n      }\n    },\n    {\n      \"column\": \"masterCategory\",\n      \"properties\": {\n        \"dtype\": \"category\",\n        \"num_unique_values\": 1,\n        \"samples\": [\n          \"Footwear\"\n        ],\n        \"semantic_type\": \"\",\n        \"description\": \"\"\n      }\n    },\n    {\n      \"column\": \"subCategory\",\n      \"properties\": {\n        \"dtype\": \"category\",\n        \"num_unique_values\": 3,\n        \"samples\": [\n          \"Flip Flops\"\n        ],\n        \"semantic_type\": \"\",\n        \"description\": \"\"\n      }\n    },\n    {\n      \"column\": \"articleType\",\n      \"properties\": {\n        \"dtype\": \"category\",\n        \"num_unique_values\": 5,\n        \"samples\": [\n          \"Sandals\"\n        ],\n        \"semantic_type\": \"\",\n        \"description\": \"\"\n      }\n    },\n    {\n      \"column\": \"filename\",\n      \"properties\": {\n        \"dtype\": \"string\",\n        \"num_unique_values\": 954,\n        \"samples\": [\n          \"31980.jpg\"\n        ],\n        \"semantic_type\": \"\",\n        \"description\": \"\"\n      }\n    },\n    {\n      \"column\": \"label\",\n      \"properties\": {\n        \"dtype\": \"category\",\n        \"num_unique_values\": 5,\n        \"samples\": [\n          \"Footwear_Sandal_Sandals\"\n        ],\n        \"semantic_type\": \"\",\n        \"description\": \"\"\n      }\n    }\n  ]\n}"
            }
          },
          "metadata": {},
          "execution_count": 16
        }
      ],
      "source": [
        "imgs_df.head()"
      ]
    },
    {
      "cell_type": "code",
      "execution_count": 17,
      "metadata": {
        "colab": {
          "base_uri": "https://localhost:8080/"
        },
        "id": "88Rg_KVL_BMR",
        "outputId": "3865a30c-4992-4c1e-81e6-e248641f65fd"
      },
      "outputs": [
        {
          "output_type": "execute_result",
          "data": {
            "text/plain": [
              "array(['Footwear_Flip Flops_Flip Flops', 'Footwear_Sandal_Sandals',\n",
              "       'Footwear_Shoes_Casual Shoes', 'Footwear_Shoes_Formal Shoes',\n",
              "       'Footwear_Shoes_Sports Shoes'], dtype=object)"
            ]
          },
          "metadata": {},
          "execution_count": 17
        }
      ],
      "source": [
        "imgs_df['label'].unique()\n"
      ]
    },
    {
      "cell_type": "code",
      "source": [
        "from sklearn.model_selection import train_test_split\n",
        "\n",
        "def split_footwear_dataset(df, category_column='label', train_ratio=0.6, val_ratio=0.2, test_ratio=0.19):\n",
        "    \"\"\"\n",
        "    Split a dataset into train, validation, and test sets, ensuring all splits have all categories.\n",
        "\n",
        "    Args:\n",
        "    - df: The input DataFrame with a 'category' column.\n",
        "    - category_column: The name of the column representing categories.\n",
        "    - train_ratio: Proportion of data for training set.\n",
        "    - val_ratio: Proportion of data for validation set.\n",
        "    - test_ratio: Proportion of data for test set.\n",
        "\n",
        "    Returns:\n",
        "    - train_df: Training subset.\n",
        "    - val_df: Validation subset.\n",
        "    - test_df: Test subset.\n",
        "    \"\"\"\n",
        "    # Step 1: Split into train and temp (val+test)\n",
        "    train_df, val_df = train_test_split(\n",
        "        df,\n",
        "        test_size= test_ratio,\n",
        "        stratify=df[category_column],\n",
        "        random_state=42\n",
        "    )\n",
        "\n",
        "    # Step 2: Split temp into validation and test\n",
        "    # val_df, test_df = train_test_split(\n",
        "    #     temp_df,\n",
        "    #     test_size=test_ratio / (val_ratio + test_ratio),  # Adjust ratio for the split\n",
        "    #     stratify=temp_df[category_column],\n",
        "    #     random_state=42\n",
        "    # )\n",
        "\n",
        "    return train_df, val_df"
      ],
      "metadata": {
        "id": "SSw0g4g0MGQg"
      },
      "execution_count": 41,
      "outputs": []
    },
    {
      "cell_type": "code",
      "source": [
        "train_df, val_df = split_footwear_dataset(imgs_df)"
      ],
      "metadata": {
        "id": "iIuiw7efMGNr"
      },
      "execution_count": 42,
      "outputs": []
    },
    {
      "cell_type": "code",
      "source": [],
      "metadata": {
        "id": "Jt4P4c1BMGF8"
      },
      "execution_count": 42,
      "outputs": []
    },
    {
      "cell_type": "code",
      "execution_count": 43,
      "metadata": {
        "id": "Y2Pczez6AEWw"
      },
      "outputs": [],
      "source": [
        "import torch\n",
        "import torch.nn as nn\n",
        "import torch.optim as optim\n",
        "import torch.nn.functional as F\n",
        "from torchvision import models, transforms\n",
        "from torch.utils.data import Dataset, DataLoader\n",
        "from PIL import Image\n",
        "import numpy as np\n",
        "import os\n",
        "from sklearn.model_selection import train_test_split\n",
        "import matplotlib.pyplot as plt\n"
      ]
    },
    {
      "cell_type": "code",
      "execution_count": 44,
      "metadata": {
        "id": "yw_22W13XcwV"
      },
      "outputs": [],
      "source": [
        "target_size = (224, 224)"
      ]
    },
    {
      "cell_type": "code",
      "execution_count": 45,
      "metadata": {
        "id": "n6q3ir4L_BMS"
      },
      "outputs": [],
      "source": [
        "import torch\n",
        "import torch.nn as nn\n",
        "import torch.optim as optim\n",
        "from torch.utils.data import Dataset, DataLoader\n",
        "from torchvision import models, transforms\n",
        "import numpy as np\n"
      ]
    },
    {
      "cell_type": "code",
      "execution_count": 45,
      "metadata": {
        "id": "B2AUxO8s_BMT"
      },
      "outputs": [],
      "source": []
    },
    {
      "cell_type": "code",
      "execution_count": 46,
      "metadata": {
        "id": "Am2AfB-c_BMS"
      },
      "outputs": [],
      "source": [
        "from PIL import Image\n",
        "import numpy as np\n",
        "\n",
        "def preprocess_images(imgs_df, folder_path, target_size=(224, 224)):\n",
        "    \"\"\"\n",
        "    Preprocess images and labels without TensorFlow.\n",
        "\n",
        "    Args:\n",
        "        imgs_df: DataFrame containing image metadata (e.g., filename, category, label).\n",
        "        folder_path: Root folder containing the images.\n",
        "        target_size: Tuple specifying the target size of the image (width, height).\n",
        "\n",
        "    Returns:\n",
        "        images: Numpy array of preprocessed images.\n",
        "        labels: List of corresponding labels.\n",
        "    \"\"\"\n",
        "    images = []\n",
        "    labels = []\n",
        "\n",
        "    for ind, row in imgs_df.iterrows():\n",
        "       # try:\n",
        "            # Build the file path based on the category\n",
        "            if row['masterCategory'] == 'Apparel':\n",
        "                file_path = f\"{folder_path}/clothing/{row['filename']}\"\n",
        "            elif row['masterCategory'] == 'Footwear':\n",
        "                file_path = f\"{folder_path}/foot wear/{row['filename']}\"\n",
        "            # else:\n",
        "            #     continue  # Skip rows with other categories\n",
        "\n",
        "            # # Load the image using Pillow\n",
        "            #img = Image.open(file_path).convert('RGB')\n",
        "\n",
        "            # # Resize the image\n",
        "            # img = img.resize(target_size)\n",
        "\n",
        "            # # Convert the image to a numpy array\n",
        "            # img_array = np.asarray(img, dtype=np.float32)\n",
        "\n",
        "            # # Normalize the image to match ResNet preprocessing\n",
        "            # img_array /= 255.0  # Scale pixel values to [0, 1]\n",
        "\n",
        "\n",
        "            # Append the preprocessed image and label\n",
        "            images.append(file_path)\n",
        "            labels.append(row['label'])\n",
        "\n",
        "        # except Exception as e:\n",
        "        #     print(f\"Error processing file {row['id']}: {e}\")\n",
        "\n",
        "    # Convert the list of images to a numpy array\n",
        "    #images = np.array(images)\n",
        "\n",
        "    return images, labels\n"
      ]
    },
    {
      "cell_type": "code",
      "source": [],
      "metadata": {
        "id": "uFH37UL3YyBO"
      },
      "execution_count": 46,
      "outputs": []
    },
    {
      "cell_type": "code",
      "execution_count": 47,
      "metadata": {
        "id": "F4v_On7U_BMT"
      },
      "outputs": [],
      "source": [
        "train_images, train_labels = preprocess_images(train_df, folder_path, target_size)\n",
        "#test_images, test_labels = preprocess_images(test_df, folder_path, target_size)\n",
        "val_images, val_labels = preprocess_images(val_df, folder_path, target_size)"
      ]
    },
    {
      "cell_type": "code",
      "source": [],
      "metadata": {
        "id": "c-dwNDPiakh-"
      },
      "execution_count": 47,
      "outputs": []
    },
    {
      "cell_type": "code",
      "source": [
        "#test_df.groupby('label').count()"
      ],
      "metadata": {
        "id": "NNvczTaJaQI9"
      },
      "execution_count": 48,
      "outputs": []
    },
    {
      "cell_type": "code",
      "source": [],
      "metadata": {
        "id": "lps7Q9GKac8q"
      },
      "execution_count": 48,
      "outputs": []
    },
    {
      "cell_type": "code",
      "execution_count": 49,
      "metadata": {
        "id": "RGGNGlBq_BMU"
      },
      "outputs": [],
      "source": [
        "from sklearn.preprocessing import LabelEncoder\n",
        "\n",
        "# Encode string labels to integers\n",
        "label_encoder = LabelEncoder()\n",
        "encoded_labels_train = label_encoder.fit_transform(train_labels)\n",
        "\n",
        "# label_encoder = LabelEncoder()\n",
        "# encoded_labels_test = label_encoder.fit_transform(test_labels)\n",
        "\n",
        "label_encoder = LabelEncoder()\n",
        "encoded_labels_val = label_encoder.fit_transform(val_labels)"
      ]
    },
    {
      "cell_type": "code",
      "source": [
        "import numpy as np\n",
        "\n",
        "def create_image_pairs(images, labels, target_pair_count=2000):\n",
        "    \"\"\"\n",
        "    Create at least `target_pair_count` unique pairs of images and their corresponding labels (1 for similar, 0 for dissimilar).\n",
        "\n",
        "    Args:\n",
        "    - images: Array of preprocessed images.\n",
        "    - labels: Array of labels corresponding to the images.\n",
        "    - target_pair_count: Total number of pairs to generate.\n",
        "\n",
        "    Returns:\n",
        "    - pairs: Array of paired images.\n",
        "    - pair_labels: Array of labels for the pairs (1: similar, 0: dissimilar).\n",
        "    \"\"\"\n",
        "    pairs = []\n",
        "    pair_labels = []\n",
        "    unique_labels = np.unique(labels)\n",
        "    label_indices = {label: np.where(labels == label)[0] for label in unique_labels}\n",
        "\n",
        "    # Set to track unique pairs (sorted tuples of indices)\n",
        "    unique_pairs = set()\n",
        "\n",
        "    # Calculate number of positive and negative pairs\n",
        "    num_positive_pairs = target_pair_count // 2\n",
        "    num_negative_pairs = target_pair_count - num_positive_pairs\n",
        "\n",
        "    # Generate positive pairs\n",
        "    while len(pairs) < num_positive_pairs:\n",
        "        for label, indices in label_indices.items():\n",
        "            if len(indices) < 2:\n",
        "                continue  # Skip if not enough samples for positive pairs\n",
        "            i, j = np.random.choice(indices, size=2, replace=False)\n",
        "\n",
        "            # Create a sorted tuple of indices\n",
        "            pair = tuple(sorted([i, j]))\n",
        "            if pair not in unique_pairs:\n",
        "                pairs.append([images[i], images[j]])\n",
        "                pair_labels.append(1)\n",
        "                unique_pairs.add(pair)\n",
        "\n",
        "            if len(pairs) >= num_positive_pairs:\n",
        "                break\n",
        "\n",
        "    # Generate negative pairs\n",
        "    while len(pairs) < target_pair_count:\n",
        "        for label, indices in label_indices.items():\n",
        "            i = np.random.choice(indices)\n",
        "            neg_label = np.random.choice(unique_labels[unique_labels != label])\n",
        "            j = np.random.choice(label_indices[neg_label])\n",
        "\n",
        "            # Create a sorted tuple of indices\n",
        "            pair = tuple(sorted([i, j]))\n",
        "            if pair not in unique_pairs:\n",
        "                pairs.append([images[i], images[j]])\n",
        "                pair_labels.append(0)\n",
        "                unique_pairs.add(pair)\n",
        "\n",
        "            if len(pairs) >= target_pair_count:\n",
        "                break\n",
        "\n",
        "    return np.array(pairs), np.array(pair_labels)\n"
      ],
      "metadata": {
        "id": "Xx31GaiQBpxv"
      },
      "execution_count": 50,
      "outputs": []
    },
    {
      "cell_type": "code",
      "source": [
        "pairs_val, pair_labels_val = create_image_pairs(val_images, encoded_labels_val, target_pair_count=6200)\n",
        "print(f\"Number of pairs: {len(pairs_val)}\")\n",
        "print(f\"Pair labels distribution: {np.unique(pair_labels_val, return_counts=True)}\")"
      ],
      "metadata": {
        "colab": {
          "base_uri": "https://localhost:8080/"
        },
        "id": "fEiXo-Lxf6Se",
        "outputId": "3f960bfd-4290-46d9-e1fb-a1bd6aacb1ec"
      },
      "execution_count": 55,
      "outputs": [
        {
          "output_type": "stream",
          "name": "stdout",
          "text": [
            "Number of pairs: 6200\n",
            "Pair labels distribution: (array([0, 1]), array([3100, 3100]))\n"
          ]
        }
      ]
    },
    {
      "cell_type": "code",
      "execution_count": 69,
      "metadata": {
        "colab": {
          "base_uri": "https://localhost:8080/"
        },
        "id": "Fj0tHz4g_BMU",
        "outputId": "cfcc1f86-739c-45cc-f52d-6dde2ad71379"
      },
      "outputs": [
        {
          "output_type": "stream",
          "name": "stdout",
          "text": [
            "Number of pairs: 20000\n",
            "Pair labels distribution: (array([0, 1]), array([10000, 10000]))\n"
          ]
        }
      ],
      "source": [
        "# Assuming `images` is a numpy array of preprocessed images and `labels` is a numpy array of their labels\n",
        "pairs_train, pair_labels_train = create_image_pairs(train_images, encoded_labels_train, target_pair_count=20000)\n",
        "print(f\"Number of pairs: {len(pairs_train)}\")\n",
        "print(f\"Pair labels distribution: {np.unique(pair_labels_train, return_counts=True)}\")\n",
        "\n",
        "# pairs_test, pair_labels_test = create_image_pairs(test_images, encoded_labels_test, target_pair_count=3000)\n",
        "# print(f\"Number of pairs: {len(pairs_test)}\")\n",
        "# print(f\"Pair labels distribution: {np.unique(pair_labels_test, return_counts=True)}\")\n",
        "\n"
      ]
    },
    {
      "cell_type": "code",
      "source": [],
      "metadata": {
        "id": "FLargsRxAhAH"
      },
      "execution_count": 56,
      "outputs": []
    },
    {
      "cell_type": "code",
      "source": [
        "class ProductDataset(Dataset):\n",
        "    def __init__(self, pairs, labels, transform=None):\n",
        "        self.pairs = pairs\n",
        "        self.labels = labels\n",
        "        self.transform = transform\n",
        "\n",
        "    def __len__(self):\n",
        "        return len(self.pairs)\n",
        "\n",
        "    def __getitem__(self, idx):\n",
        "        img1_path, img2_path = self.pairs[idx]\n",
        "        label = self.labels[idx]\n",
        "\n",
        "        img1 = Image.open(img1_path).convert('RGB')\n",
        "        img2 = Image.open(img2_path).convert('RGB')\n",
        "\n",
        "        if self.transform:\n",
        "            img1 = self.transform(img1)\n",
        "            img2 = self.transform(img2)\n",
        "\n",
        "        return img1, img2, torch.tensor(label, dtype=torch.float32)\n"
      ],
      "metadata": {
        "id": "rDNBw16wZmja"
      },
      "execution_count": 57,
      "outputs": []
    },
    {
      "cell_type": "code",
      "source": [
        "class FeatureExtractor(nn.Module):\n",
        "    def __init__(self, embedding_dim=512):\n",
        "        super(FeatureExtractor, self).__init__()\n",
        "        #resnet = models.resnet50(pretrained=True)\n",
        "        mobilenet = models.mobilenet_v2(pretrained=True)\n",
        "\n",
        "        # Freeze all layers initially\n",
        "        # for param in resnet.parameters():\n",
        "        #     param.requires_grad = False\n",
        "        for param in mobilenet.parameters():\n",
        "            param.requires_grad = False\n",
        "\n",
        "        # Unfreeze the last convolutional block (layer4)\n",
        "        # for param in resnet.layer3.parameters():\n",
        "        #     param.requires_grad = True\n",
        "        # for param in resnet.layer4.parameters():\n",
        "        #     param.requires_grad = True\n",
        "        for param in mobilenet.features[-4:].parameters():  # Adjust the number as needed\n",
        "            param.requires_grad = True\n",
        "\n",
        "        # Keep all layers except the final fully connected layer\n",
        "        # self.feature_extractor = nn.Sequential(*list(resnet.children())[:-1])\n",
        "\n",
        "        # self.fc = nn.Linear(resnet.fc.in_features, embedding_dim)\n",
        "        # self.relu = nn.ReLU()\n",
        "        self.feature_extractor = nn.Sequential(*list(mobilenet.features.children()))\n",
        "        self.avgpool =nn.AdaptiveAvgPool2d((1, 1))  # Global average pooling\n",
        "        self.fc = nn.Linear(mobilenet.last_channel, embedding_dim)\n",
        "        self.relu = nn.ReLU()\n",
        "\n",
        "\n",
        "    def forward(self, x):\n",
        "        # Pass through ResNet and flatten the output\n",
        "        x = self.feature_extractor(x)  # Output shape: [batch_size, 2048, 1, 1]\n",
        "        #x = x.view(x.size(0), -1)\n",
        "        x = self.avgpool(x)\n",
        "        x = torch.flatten(x, 1)\n",
        "        x = self.fc(x)                            # [batch_size, embedding_dim]\n",
        "        x = self.relu(x)     # Flatten to shape: [batch_size, 2048]\n",
        "        return x"
      ],
      "metadata": {
        "id": "FkUqYhjEbaJD"
      },
      "execution_count": 58,
      "outputs": []
    },
    {
      "cell_type": "code",
      "source": [
        "# class AttentionModule(nn.Module):\n",
        "#     def __init__(self, embedding_dim):\n",
        "#         super(AttentionModule, self).__init__()\n",
        "#         self.attention = nn.Sequential(\n",
        "#             nn.Linear(embedding_dim, 128),\n",
        "#             nn.ReLU(),\n",
        "#             nn.Linear(128, 1),\n",
        "#             nn.Softmax(dim=-1)\n",
        "#         )\n",
        "\n",
        "#     def forward(self, x):\n",
        "#         attention_weights = self.attention(x)\n",
        "#         return x * attention_weights\n",
        "\n",
        "class SiameseNetwork(nn.Module):\n",
        "    def __init__(self, feature_extractor):\n",
        "        super(SiameseNetwork, self).__init__()\n",
        "        self.feature_extractor = feature_extractor  # Pretrained ResNet50 as feature extractor\n",
        "\n",
        "    def forward(self, img1, img2):\n",
        "        # Extract embeddings\n",
        "        embedding1 = self.feature_extractor(img1)  # [batch_size, embedding_dim]\n",
        "        embedding2 = self.feature_extractor(img2)  # [batch_size, embedding_dim]\n",
        "        return embedding1, embedding2\n"
      ],
      "metadata": {
        "id": "f7RxNQ97Zmfv"
      },
      "execution_count": 59,
      "outputs": []
    },
    {
      "cell_type": "code",
      "source": [
        "class ContrastiveLoss(nn.Module):\n",
        "    def __init__(self, margin=1.0):\n",
        "        super(ContrastiveLoss, self).__init__()\n",
        "        self.margin = margin\n",
        "\n",
        "    def forward(self, embedding1, embedding2, label):\n",
        "        # Compute pairwise distance\n",
        "        distance = torch.nn.functional.pairwise_distance(embedding1, embedding2, p=2)\n",
        "        # Contrastive loss formula\n",
        "        loss = label * torch.pow(distance, 2) + (1 - label) * torch.pow(torch.clamp(self.margin - distance, min=0), 2)\n",
        "        return loss.mean()\n"
      ],
      "metadata": {
        "id": "NK6bnpsGZmbR"
      },
      "execution_count": 60,
      "outputs": []
    },
    {
      "cell_type": "code",
      "source": [
        "# Data transformations\n",
        "transform = transforms.Compose([\n",
        "    transforms.Resize((224, 224)),\n",
        "     transforms.RandomHorizontalFlip(),      # Randomly flip images horizontally\n",
        "    transforms.RandomRotation(10),          # Randomly rotate images by ±10 degrees\n",
        "    transforms.ColorJitter(brightness=0.2, contrast=0.2, saturation=0.2, hue=0.1),  # Randomly change brightness, contrast, etc.\n",
        "    transforms.ToTensor(),\n",
        "    transforms.Normalize(mean=[0.485, 0.456, 0.406],\n",
        "                         std=[0.229, 0.224, 0.225])\n",
        "])\n",
        "\n",
        "# Split pairs into train, validation, and test sets\n",
        "#pairs, labels = ...  # Load or prepare your image pairs and labels here\n",
        "# train_pairs, test_pairs, train_labels, test_labels = train_test_split(pairs,pair_labels, test_size=0.2, random_state=42)\n",
        "# train_pairs, val_pairs, train_labels, val_labels = train_test_split(train_pairs, train_labels, test_size=0.25, random_state=42)\n",
        "\n",
        "# Datasets and DataLoaders\n",
        "train_dataset = ProductDataset(pairs_train, pair_labels_train, transform=transform)\n",
        "val_dataset = ProductDataset(pairs_val, pair_labels_val, transform=transform)\n",
        "#test_dataset = ProductDataset(pairs_test, pair_labels_test, transform=transform)\n",
        "\n",
        "train_loader = DataLoader(train_dataset, batch_size=32, shuffle=True)\n",
        "val_loader = DataLoader(val_dataset, batch_size=32, shuffle=False)\n",
        "#test_loader = DataLoader(test_dataset, batch_size=32, shuffle=False)\n"
      ],
      "metadata": {
        "id": "uZtVWKexZmXI"
      },
      "execution_count": 70,
      "outputs": []
    },
    {
      "cell_type": "code",
      "source": [
        "# Convert numpy arrays to tuples for compatibility with sets\n",
        "train_pairs_set = set([tuple(pair) for pair in pairs_train])\n",
        "val_pairs_set = set([tuple(pair) for pair in pairs_val])\n",
        "#test_pairs_set = set([tuple(pair) for pair in pairs_test])\n",
        "\n",
        "# Check overlaps\n",
        "#overlap_with_train = len(test_pairs_set.intersection(train_pairs_set))\n",
        "overlap_with_val = len(train_pairs_set.intersection(val_pairs_set))\n",
        "\n",
        "#print(f\"Overlap with Training Set: {overlap_with_train}\")\n",
        "print(f\"Overlap with Validation Set: {overlap_with_val}\")"
      ],
      "metadata": {
        "colab": {
          "base_uri": "https://localhost:8080/"
        },
        "id": "dLgEw6t59x8z",
        "outputId": "85b4fab9-e085-4c21-ae2e-50936dc722bf"
      },
      "execution_count": 71,
      "outputs": [
        {
          "output_type": "stream",
          "name": "stdout",
          "text": [
            "Overlap with Validation Set: 0\n"
          ]
        }
      ]
    },
    {
      "cell_type": "code",
      "source": [],
      "metadata": {
        "id": "BCWNMAPSWnIC"
      },
      "execution_count": 71,
      "outputs": []
    },
    {
      "cell_type": "code",
      "source": [
        "device = torch.device('cuda' if torch.cuda.is_available() else 'cpu')\n",
        "\n",
        "# Initialize models\n",
        "feature_extractor = FeatureExtractor()\n",
        "siamese_network = SiameseNetwork(feature_extractor).to(device)\n",
        "#feature_extractor = FeatureExtractor().to(device)\n",
        "#siamese_network = SiameseNetwork(feature_extractor,embedding_dim=2048).to(device)\n",
        "\n",
        "# Loss function and optimizer\n",
        "trainable_params = list(filter(lambda p: p.requires_grad, siamese_network.parameters()))\n",
        "optimizer = optim.Adam(trainable_params, lr=1e-4)\n",
        "criterion = ContrastiveLoss(margin=1.0)\n",
        "\n"
      ],
      "metadata": {
        "id": "3AUXlNnjWwJu",
        "colab": {
          "base_uri": "https://localhost:8080/"
        },
        "outputId": "aeb9253c-3cde-4066-8fa1-3d8a92eb3b13"
      },
      "execution_count": 72,
      "outputs": [
        {
          "output_type": "stream",
          "name": "stderr",
          "text": [
            "/usr/local/lib/python3.10/dist-packages/torchvision/models/_utils.py:208: UserWarning: The parameter 'pretrained' is deprecated since 0.13 and may be removed in the future, please use 'weights' instead.\n",
            "  warnings.warn(\n",
            "/usr/local/lib/python3.10/dist-packages/torchvision/models/_utils.py:223: UserWarning: Arguments other than a weight enum or `None` for 'weights' are deprecated since 0.13 and may be removed in the future. The current behavior is equivalent to passing `weights=MobileNet_V2_Weights.IMAGENET1K_V1`. You can also use `weights=MobileNet_V2_Weights.DEFAULT` to get the most up-to-date weights.\n",
            "  warnings.warn(msg)\n"
          ]
        }
      ]
    },
    {
      "cell_type": "code",
      "source": [],
      "metadata": {
        "id": "ahNNsCNQgV9N"
      },
      "execution_count": 72,
      "outputs": []
    },
    {
      "cell_type": "code",
      "source": [
        "# # Load pretrained MobileNetV2 as feature extractor\n",
        "# feature_extractor = models.mobilenet_v2(pretrained=True)\n",
        "# feature_extractor = nn.Sequential(*list(feature_extractor.children())[:-1])  # Remove classifier\n",
        "# embedding_dim = 1280  # MobileNetV2 output size\n",
        "# device = torch.device(\"cuda\" if torch.cuda.is_available() else \"cpu\")\n",
        "\n",
        "# # Initialize Siamese Network\n",
        "# siamese_network = SiameseNetwork(feature_extractor, embedding_dim).to(device)\n",
        "\n",
        "# # Loss and Optimizer\n",
        "# criterion = nn.BCELoss()\n",
        "# optimizer = optim.Adam(siamese_network.parameters(), lr=0.001, weight_decay=1e-4)\n",
        "\n",
        "\n"
      ],
      "metadata": {
        "id": "xufB_fxGZmTg"
      },
      "execution_count": 73,
      "outputs": []
    },
    {
      "cell_type": "code",
      "source": [
        "from sklearn.neighbors import NearestNeighbors\n",
        "\n",
        "import matplotlib.pyplot as plt\n",
        "from itertools import combinations\n",
        "import random\n",
        "import copy\n",
        "from tqdm import tqdm\n",
        "import pickle"
      ],
      "metadata": {
        "id": "umobwjjU9VIu"
      },
      "execution_count": 74,
      "outputs": []
    },
    {
      "cell_type": "code",
      "source": [
        "wts=[]"
      ],
      "metadata": {
        "id": "jMi9jk9HzD6B"
      },
      "execution_count": 66,
      "outputs": []
    },
    {
      "cell_type": "code",
      "source": [
        "epochs = 5\n",
        "train_losses, val_losses = [], []\n",
        "\n",
        "for epoch in range(epochs):\n",
        "    # Training\n",
        "    siamese_network.train()\n",
        "    train_loss = 0.0\n",
        "    for img1, img2, labels in train_loader:\n",
        "        img1, img2, labels = img1.to(device), img2.to(device), labels.to(device)\n",
        "\n",
        "        embedding1, embedding2 = siamese_network(img1, img2)\n",
        "        loss = criterion(embedding1, embedding2, labels)\n",
        "\n",
        "        # Backward pass and optimization\n",
        "        optimizer.zero_grad()\n",
        "        loss.backward()\n",
        "        optimizer.step()\n",
        "\n",
        "        train_loss += loss.item()\n",
        "\n",
        "    train_loss /= len(train_loader)\n",
        "    train_losses.append(train_loss)\n",
        "\n",
        "    wts.append(copy.deepcopy(siamese_network.state_dict()))\n",
        "\n",
        "    # Validation\n",
        "    siamese_network.eval()\n",
        "    val_loss = 0.0\n",
        "    with torch.no_grad():\n",
        "        for img1, img2, labels in val_loader:\n",
        "            img1, img2, labels = img1.to(device), img2.to(device), labels.to(device)\n",
        "            embedding1, embedding2 = siamese_network(img1, img2)\n",
        "            loss = criterion(embedding1, embedding2, labels)\n",
        "            val_loss += loss.item()\n",
        "\n",
        "    val_loss /= len(val_loader)\n",
        "    val_losses.append(val_loss)\n",
        "\n",
        "    print(f\"Epoch {epoch+1}/{epochs}, Train Loss: {train_loss:.4f}, Val Loss: {val_loss:.4f}\")\n"
      ],
      "metadata": {
        "colab": {
          "base_uri": "https://localhost:8080/"
        },
        "id": "zmxAjLsrZmQA",
        "outputId": "fbb89b8e-0f74-4f28-c2a3-4fcb21ed1a39"
      },
      "execution_count": 75,
      "outputs": [
        {
          "output_type": "stream",
          "name": "stdout",
          "text": [
            "Epoch 1/5, Train Loss: 0.2733, Val Loss: 0.1264\n",
            "Epoch 2/5, Train Loss: 0.0885, Val Loss: 0.1137\n",
            "Epoch 3/5, Train Loss: 0.0542, Val Loss: 0.1199\n",
            "Epoch 4/5, Train Loss: 0.0349, Val Loss: 0.1113\n",
            "Epoch 5/5, Train Loss: 0.0228, Val Loss: 0.1164\n"
          ]
        }
      ]
    },
    {
      "cell_type": "code",
      "source": [
        "# Save the model's state_dict\n",
        "#torch.save(siamese_network.state_dict(), \"siamese_network.pth\")\n"
      ],
      "metadata": {
        "id": "or7OjZI875dB"
      },
      "execution_count": null,
      "outputs": []
    },
    {
      "cell_type": "code",
      "source": [
        "len(wts)"
      ],
      "metadata": {
        "colab": {
          "base_uri": "https://localhost:8080/"
        },
        "id": "7P86UL9iinO6",
        "outputId": "ef4cb6e2-d610-4d98-fbce-104416bed01c"
      },
      "execution_count": 77,
      "outputs": [
        {
          "output_type": "execute_result",
          "data": {
            "text/plain": [
              "5"
            ]
          },
          "metadata": {},
          "execution_count": 77
        }
      ]
    },
    {
      "cell_type": "code",
      "source": [
        "siamese_network.load_state_dict(wts[1])\n",
        "torch.save(siamese_network.state_dict(), 'siamese_network_best.pth')"
      ],
      "metadata": {
        "id": "aXJiQaf6zC2T"
      },
      "execution_count": 78,
      "outputs": []
    },
    {
      "cell_type": "code",
      "source": [
        "import torch\n",
        "\n",
        "def calculate_accuracy(model, dataloader, threshold=0.5):\n",
        "    \"\"\"\n",
        "    Calculates the accuracy of a Siamese Network model.\n",
        "\n",
        "    Args:\n",
        "        model: Trained Siamese Neural Network model.\n",
        "        dataloader: DataLoader containing test or validation data (pairs and labels).\n",
        "        threshold: Distance threshold to classify pairs as similar or dissimilar.\n",
        "\n",
        "    Returns:\n",
        "        Accuracy of the model.\n",
        "    \"\"\"\n",
        "    model.eval()\n",
        "    correct = 0\n",
        "    total = 0\n",
        "\n",
        "    with torch.no_grad():\n",
        "        for img1, img2, labels in dataloader:\n",
        "            img1, img2, labels = img1.to(device), img2.to(device), labels.to(device)\n",
        "\n",
        "            # Get embeddings for both images\n",
        "            embedding1, embedding2 = model(img1, img2)\n",
        "\n",
        "            # Calculate Euclidean distance\n",
        "            distances = torch.nn.functional.pairwise_distance(embedding1, embedding2)\n",
        "\n",
        "            # Predict labels based on the threshold\n",
        "            predictions = (distances < threshold).float()\n",
        "\n",
        "            # Compare predictions with actual labels\n",
        "            correct += (predictions == labels).sum().item()\n",
        "            total += labels.size(0)\n",
        "\n",
        "    # Calculate accuracy\n",
        "    accuracy = correct / total\n",
        "    return accuracy\n",
        "\n",
        "# Example usage\n",
        "accuracy = calculate_accuracy(siamese_network, val_loader, threshold=0.5)\n",
        "print(f\"Model Accuracy: {accuracy * 100:.2f}%\")\n"
      ],
      "metadata": {
        "colab": {
          "base_uri": "https://localhost:8080/"
        },
        "id": "JirrMCs6w8Vf",
        "outputId": "a73b673a-f679-4e43-8496-bc0485c8b190"
      },
      "execution_count": 79,
      "outputs": [
        {
          "output_type": "stream",
          "name": "stdout",
          "text": [
            "Model Accuracy: 85.34%\n"
          ]
        }
      ]
    },
    {
      "cell_type": "code",
      "source": [],
      "metadata": {
        "id": "MNKrQ3ke78kW"
      },
      "execution_count": null,
      "outputs": []
    },
    {
      "cell_type": "code",
      "source": [],
      "metadata": {
        "id": "-ijEUzaQ78UO"
      },
      "execution_count": null,
      "outputs": []
    },
    {
      "cell_type": "code",
      "source": [
        "#best_model_wts = copy.deepcopy(siamese_network.state_dict())\n"
      ],
      "metadata": {
        "id": "kWwkPrD-78SB"
      },
      "execution_count": null,
      "outputs": []
    },
    {
      "cell_type": "code",
      "source": [
        "class SingleImageDataset(Dataset):\n",
        "    def __init__(self, image_paths, transform=None):\n",
        "        \"\"\"\n",
        "        Args:\n",
        "            image_paths (List[str]): List of image file paths.\n",
        "            transform (callable, optional): Transformations to apply to images.\n",
        "        \"\"\"\n",
        "        #file_path = f\"{folder_path}/foot wear/{row['filename']}\"\n",
        "        self.image_paths = image_paths\n",
        "        self.transform = transform\n",
        "\n",
        "    def __len__(self):\n",
        "        return len(self.image_paths)\n",
        "\n",
        "    def __getitem__(self, idx):\n",
        "\n",
        "        file_path = f\"{folder_path}/foot wear/{self.image_paths[idx]}\"\n",
        "\n",
        "        img_path = file_path\n",
        "        image = Image.open(img_path).convert('RGB')\n",
        "\n",
        "        if self.transform:\n",
        "            image = self.transform(image)\n",
        "\n",
        "        return image, img_path  # Returning img_path for reference\n"
      ],
      "metadata": {
        "id": "gWqtYXX_78Pp"
      },
      "execution_count": 80,
      "outputs": []
    },
    {
      "cell_type": "code",
      "source": [
        "# Combine all image paths from training, validation, and test sets\n",
        "all_image_paths = train_df['filename'].tolist() + val_df['filename'].tolist()\n",
        "# Create the dataset\n",
        "single_image_dataset = SingleImageDataset(all_image_paths, transform=transform)\n",
        "\n",
        "# Create the DataLoader\n",
        "single_image_loader = DataLoader(single_image_dataset, batch_size=32, shuffle=False, num_workers=2, pin_memory=True)\n"
      ],
      "metadata": {
        "id": "m1Hn-vXp78CZ"
      },
      "execution_count": 81,
      "outputs": []
    },
    {
      "cell_type": "code",
      "source": [
        "def compute_all_embeddings(model, dataloader, device):\n",
        "    \"\"\"\n",
        "    Compute embeddings for all images in the dataloader.\n",
        "\n",
        "    Args:\n",
        "        model (nn.Module): Trained Siamese Network model.\n",
        "        dataloader (DataLoader): DataLoader for single images.\n",
        "        device (torch.device): Device to perform computations on.\n",
        "\n",
        "    Returns:\n",
        "        Tuple[np.ndarray, List[str]]: Array of embeddings and corresponding image paths.\n",
        "    \"\"\"\n",
        "    model.eval()\n",
        "    all_embeddings = []\n",
        "    all_image_paths = []\n",
        "\n",
        "    with torch.no_grad():\n",
        "        for images, img_paths in tqdm(dataloader, desc=\"Computing Embeddings\"):\n",
        "            images = images.to(device)\n",
        "            embeddings = model.feature_extractor(images)  # Obtain embeddings\n",
        "            embeddings = embeddings.cpu().numpy()\n",
        "            all_embeddings.append(embeddings)\n",
        "            all_image_paths.extend(img_paths)\n",
        "\n",
        "    all_embeddings = np.vstack(all_embeddings)\n",
        "    return all_embeddings, all_image_paths\n",
        "\n",
        "# Compute embeddings\n",
        "all_embeddings, all_image_paths_ref = compute_all_embeddings(siamese_network, single_image_loader, device)\n",
        "print(f\"Computed embeddings for {len(all_image_paths_ref)} images.\")\n"
      ],
      "metadata": {
        "colab": {
          "base_uri": "https://localhost:8080/"
        },
        "id": "YYJVZO7DrxK8",
        "outputId": "7dc6d981-5c99-4e6f-d34b-905fcd7ac1e6"
      },
      "execution_count": 82,
      "outputs": [
        {
          "output_type": "stream",
          "name": "stderr",
          "text": [
            "Computing Embeddings: 100%|██████████| 30/30 [00:28<00:00,  1.07it/s]"
          ]
        },
        {
          "output_type": "stream",
          "name": "stdout",
          "text": [
            "Computed embeddings for 954 images.\n"
          ]
        },
        {
          "output_type": "stream",
          "name": "stderr",
          "text": [
            "\n"
          ]
        }
      ]
    },
    {
      "cell_type": "code",
      "source": [
        "# Initialize the NearestNeighbors model\n",
        "nn_model = NearestNeighbors(n_neighbors=6, metric='euclidean')  # 6 to exclude the query image itself\n",
        "\n",
        "# Fit the model on all embeddings\n",
        "nn_model.fit(all_embeddings)\n",
        "\n",
        "print(\"NearestNeighbors model built and fitted on embeddings.\")\n"
      ],
      "metadata": {
        "colab": {
          "base_uri": "https://localhost:8080/"
        },
        "id": "NlDF-0I3sI6T",
        "outputId": "ba1ecb48-7b86-4a02-f53a-9c01dbbc2060"
      },
      "execution_count": 83,
      "outputs": [
        {
          "output_type": "stream",
          "name": "stdout",
          "text": [
            "NearestNeighbors model built and fitted on embeddings.\n"
          ]
        }
      ]
    },
    {
      "cell_type": "code",
      "source": [
        "def recommend_similar_images(query_image_path, model, nn_model, embeddings, image_paths, top_k=5, transform=None):\n",
        "    \"\"\"\n",
        "    Recommend top_k similar images to the given query image.\n",
        "\n",
        "    Args:\n",
        "        query_image_path (str): Path to the query image.\n",
        "        model (nn.Module): Trained Siamese Network model.\n",
        "        nn_model (NearestNeighbors): Fitted NearestNeighbors model.\n",
        "        embeddings (np.ndarray): Array of all image embeddings.\n",
        "        image_paths (List[str]): List of all image paths corresponding to embeddings.\n",
        "        top_k (int): Number of similar images to recommend.\n",
        "        transform (callable, optional): Transformations to apply to the query image.\n",
        "\n",
        "    Returns:\n",
        "        List[str]: List of recommended image paths.\n",
        "    \"\"\"\n",
        "    from PIL import Image\n",
        "\n",
        "    # Load and preprocess the query image\n",
        "    image = Image.open(query_image_path).convert('RGB')\n",
        "\n",
        "    if transform:\n",
        "        image = transform(image).unsqueeze(0)  # Add batch dimension\n",
        "    else:\n",
        "        raise ValueError(\"Transformations must be provided.\")\n",
        "\n",
        "    # Move image to the appropriate device\n",
        "    image = image.to(device)\n",
        "\n",
        "    with torch.no_grad():\n",
        "        embedding = model.feature_extractor(image)\n",
        "        embedding = embedding.cpu().numpy()\n",
        "\n",
        "    # Find nearest neighbors\n",
        "    distances, indices = nn_model.kneighbors(embedding, n_neighbors=top_k + 1)  # +1 to exclude the query itself\n",
        "\n",
        "    # Get recommended image paths, excluding the query image\n",
        "    recommended_indices = indices[0][1:]\n",
        "    recommended_images = [image_paths[idx] for idx in recommended_indices]\n",
        "\n",
        "    return recommended_images\n"
      ],
      "metadata": {
        "id": "MzM1Tan0sOhg"
      },
      "execution_count": 84,
      "outputs": []
    },
    {
      "cell_type": "code",
      "source": [
        "def display_recommendations(query_image_path, recommended_images, transform=None):\n",
        "    \"\"\"\n",
        "    Display the query image and its recommended similar images.\n",
        "\n",
        "    Args:\n",
        "        query_image_path (str): Path to the query image.\n",
        "        recommended_images (List[str]): List of recommended image paths.\n",
        "        transform (callable, optional): Transformations applied to images.\n",
        "    \"\"\"\n",
        "    plt.figure(figsize=(15, 5))\n",
        "\n",
        "    # Display Query Image\n",
        "    plt.subplot(1, 6, 1)\n",
        "    query_img = Image.open(query_image_path).convert('RGB')\n",
        "    plt.imshow(query_img)\n",
        "    plt.title(\"Query Image\")\n",
        "    plt.axis('off')\n",
        "\n",
        "    # Display Recommended Images\n",
        "    for i, rec_img_path in enumerate(recommended_images):\n",
        "        plt.subplot(1, 6, i + 2)\n",
        "        rec_img = Image.open(rec_img_path).convert('RGB')\n",
        "        plt.imshow(rec_img)\n",
        "        plt.title(f\"Rec {i+1}\")\n",
        "        plt.axis('off')\n",
        "\n",
        "    plt.show()\n",
        "\n",
        "# Example Usage\n",
        "query_image = train_df['filename'].iloc[0]\n",
        "query_image=file_path = f\"{folder_path}/foot wear/{query_image}\"  # Replace with your desired query image path\n",
        "recommended_images = recommend_similar_images(\n",
        "    query_image_path=query_image,\n",
        "    model=siamese_network,\n",
        "    nn_model=nn_model,\n",
        "    embeddings=all_embeddings,\n",
        "    image_paths=all_image_paths_ref,\n",
        "    top_k=5,\n",
        "    transform=transform\n",
        ")\n",
        "\n",
        "print(\"Recommended Images:\")\n",
        "for img in recommended_images:\n",
        "    print(img)\n",
        "\n",
        "# Display the recommendations\n",
        "display_recommendations(query_image, recommended_images, transform=transform)\n"
      ],
      "metadata": {
        "colab": {
          "base_uri": "https://localhost:8080/",
          "height": 384
        },
        "id": "J7vjIULBsP3f",
        "outputId": "9fe491c1-6fcc-4ae2-ae9c-c0ae88778595"
      },
      "execution_count": 85,
      "outputs": [
        {
          "output_type": "stream",
          "name": "stdout",
          "text": [
            "Recommended Images:\n",
            "/content/drive/My Drive/images/foot wear/39978.jpg\n",
            "/content/drive/My Drive/images/foot wear/49061.jpg\n",
            "/content/drive/My Drive/images/foot wear/12724.jpg\n",
            "/content/drive/My Drive/images/foot wear/21744.jpg\n",
            "/content/drive/My Drive/images/foot wear/13361.jpg\n"
          ]
        },
        {
          "output_type": "display_data",
          "data": {
            "text/plain": [
              "<Figure size 1500x500 with 6 Axes>"
            ],
            "image/png": "[encoded data removed]"
          },
          "metadata": {}
        }
      ]
    },
    {
      "cell_type": "code",
      "source": [
        "\n",
        "print(train_df.iloc[0])"
      ],
      "metadata": {
        "colab": {
          "base_uri": "https://localhost:8080/"
        },
        "id": "AGofoDUE6iFi",
        "outputId": "9ed46f38-db52-43fa-9e3a-3bab8644e206"
      },
      "execution_count": 86,
      "outputs": [
        {
          "output_type": "stream",
          "name": "stdout",
          "text": [
            "id                                      34828\n",
            "masterCategory                       Footwear\n",
            "subCategory                             Shoes\n",
            "articleType                      Casual Shoes\n",
            "filename                            34828.jpg\n",
            "label             Footwear_Shoes_Casual Shoes\n",
            "Name: 446, dtype: object\n"
          ]
        }
      ]
    },
    {
      "cell_type": "code",
      "source": [
        "ids=[39978,49061,12724,21744,13361]\n",
        "res=imgs_df[imgs_df['id'].isin(ids)]\n",
        "res"
      ],
      "metadata": {
        "colab": {
          "base_uri": "https://localhost:8080/",
          "height": 206
        },
        "id": "kdN2sAV870w7",
        "outputId": "483281a6-dfc5-44d6-b92a-c9293525fe67"
      },
      "execution_count": 87,
      "outputs": [
        {
          "output_type": "execute_result",
          "data": {
            "text/plain": [
              "        id masterCategory subCategory   articleType   filename  \\\n",
              "388  21744       Footwear       Shoes  Casual Shoes  21744.jpg   \n",
              "495  39978       Footwear       Shoes  Casual Shoes  39978.jpg   \n",
              "519  13361       Footwear       Shoes  Casual Shoes  13361.jpg   \n",
              "533  12724       Footwear       Shoes  Casual Shoes  12724.jpg   \n",
              "553  49061       Footwear       Shoes  Casual Shoes  49061.jpg   \n",
              "\n",
              "                           label  \n",
              "388  Footwear_Shoes_Casual Shoes  \n",
              "495  Footwear_Shoes_Casual Shoes  \n",
              "519  Footwear_Shoes_Casual Shoes  \n",
              "533  Footwear_Shoes_Casual Shoes  \n",
              "553  Footwear_Shoes_Casual Shoes  "
            ],
            "text/html": [
              "\n",
              "  <div id=\"df-dd3c9efb-00ac-4584-bc9b-ba655b08448c\" class=\"colab-df-container\">\n",
              "    <div>\n",
              "<style scoped>\n",
              "    .dataframe tbody tr th:only-of-type {\n",
              "        vertical-align: middle;\n",
              "    }\n",
              "\n",
              "    .dataframe tbody tr th {\n",
              "        vertical-align: top;\n",
              "    }\n",
              "\n",
              "    .dataframe thead th {\n",
              "        text-align: right;\n",
              "    }\n",
              "</style>\n",
              "<table border=\"1\" class=\"dataframe\">\n",
              "  <thead>\n",
              "    <tr style=\"text-align: right;\">\n",
              "      <th></th>\n",
              "      <th>id</th>\n",
              "      <th>masterCategory</th>\n",
              "      <th>subCategory</th>\n",
              "      <th>articleType</th>\n",
              "      <th>filename</th>\n",
              "      <th>label</th>\n",
              "    </tr>\n",
              "  </thead>\n",
              "  <tbody>\n",
              "    <tr>\n",
              "      <th>388</th>\n",
              "      <td>21744</td>\n",
              "      <td>Footwear</td>\n",
              "      <td>Shoes</td>\n",
              "      <td>Casual Shoes</td>\n",
              "      <td>21744.jpg</td>\n",
              "      <td>Footwear_Shoes_Casual Shoes</td>\n",
              "    </tr>\n",
              "    <tr>\n",
              "      <th>495</th>\n",
              "      <td>39978</td>\n",
              "      <td>Footwear</td>\n",
              "      <td>Shoes</td>\n",
              "      <td>Casual Shoes</td>\n",
              "      <td>39978.jpg</td>\n",
              "      <td>Footwear_Shoes_Casual Shoes</td>\n",
              "    </tr>\n",
              "    <tr>\n",
              "      <th>519</th>\n",
              "      <td>13361</td>\n",
              "      <td>Footwear</td>\n",
              "      <td>Shoes</td>\n",
              "      <td>Casual Shoes</td>\n",
              "      <td>13361.jpg</td>\n",
              "      <td>Footwear_Shoes_Casual Shoes</td>\n",
              "    </tr>\n",
              "    <tr>\n",
              "      <th>533</th>\n",
              "      <td>12724</td>\n",
              "      <td>Footwear</td>\n",
              "      <td>Shoes</td>\n",
              "      <td>Casual Shoes</td>\n",
              "      <td>12724.jpg</td>\n",
              "      <td>Footwear_Shoes_Casual Shoes</td>\n",
              "    </tr>\n",
              "    <tr>\n",
              "      <th>553</th>\n",
              "      <td>49061</td>\n",
              "      <td>Footwear</td>\n",
              "      <td>Shoes</td>\n",
              "      <td>Casual Shoes</td>\n",
              "      <td>49061.jpg</td>\n",
              "      <td>Footwear_Shoes_Casual Shoes</td>\n",
              "    </tr>\n",
              "  </tbody>\n",
              "</table>\n",
              "</div>\n",
              "    <div class=\"colab-df-buttons\">\n",
              "\n",
              "  <div class=\"colab-df-container\">\n",
              "    <button class=\"colab-df-convert\" onclick=\"convertToInteractive('df-dd3c9efb-00ac-4584-bc9b-ba655b08448c')\"\n",
              "            title=\"Convert this dataframe to an interactive table.\"\n",
              "            style=\"display:none;\">\n",
              "\n",
              "  <svg xmlns=\"http://www.w3.org/2000/svg\" height=\"24px\" viewBox=\"0 -960 960 960\">\n",
              "    <path d=\"M120-120v-720h720v720H120Zm60-500h600v-160H180v160Zm220 220h160v-160H400v160Zm0 220h160v-160H400v160ZM180-400h160v-160H180v160Zm440 0h160v-160H620v160ZM180-180h160v-160H180v160Zm440 0h160v-160H620v160Z\"/>\n",
              "  </svg>\n",
              "    </button>\n",
              "\n",
              "  <style>\n",
              "    .colab-df-container {\n",
              "      display:flex;\n",
              "      gap: 12px;\n",
              "    }\n",
              "\n",
              "    .colab-df-convert {\n",
              "      background-color: #E8F0FE;\n",
              "      border: none;\n",
              "      border-radius: 50%;\n",
              "      cursor: pointer;\n",
              "      display: none;\n",
              "      fill: #1967D2;\n",
              "      height: 32px;\n",
              "      padding: 0 0 0 0;\n",
              "      width: 32px;\n",
              "    }\n",
              "\n",
              "    .colab-df-convert:hover {\n",
              "      background-color: #E2EBFA;\n",
              "      box-shadow: 0px 1px 2px rgba(60, 64, 67, 0.3), 0px 1px 3px 1px rgba(60, 64, 67, 0.15);\n",
              "      fill: #174EA6;\n",
              "    }\n",
              "\n",
              "    .colab-df-buttons div {\n",
              "      margin-bottom: 4px;\n",
              "    }\n",
              "\n",
              "    [theme=dark] .colab-df-convert {\n",
              "      background-color: #3B4455;\n",
              "      fill: #D2E3FC;\n",
              "    }\n",
              "\n",
              "    [theme=dark] .colab-df-convert:hover {\n",
              "      background-color: #434B5C;\n",
              "      box-shadow: 0px 1px 3px 1px rgba(0, 0, 0, 0.15);\n",
              "      filter: drop-shadow(0px 1px 2px rgba(0, 0, 0, 0.3));\n",
              "      fill: #FFFFFF;\n",
              "    }\n",
              "  </style>\n",
              "\n",
              "    <script>\n",
              "      const buttonEl =\n",
              "        document.querySelector('#df-dd3c9efb-00ac-4584-bc9b-ba655b08448c button.colab-df-convert');\n",
              "      buttonEl.style.display =\n",
              "        google.colab.kernel.accessAllowed ? 'block' : 'none';\n",
              "\n",
              "      async function convertToInteractive(key) {\n",
              "        const element = document.querySelector('#df-dd3c9efb-00ac-4584-bc9b-ba655b08448c');\n",
              "        const dataTable =\n",
              "          await google.colab.kernel.invokeFunction('convertToInteractive',\n",
              "                                                    [key], {});\n",
              "        if (!dataTable) return;\n",
              "\n",
              "        const docLinkHtml = 'Like what you see? Visit the ' +\n",
              "          '<a target=\"_blank\" href=https://colab.research.google.com/notebooks/data_table.ipynb>data table notebook</a>'\n",
              "          + ' to learn more about interactive tables.';\n",
              "        element.innerHTML = '';\n",
              "        dataTable['output_type'] = 'display_data';\n",
              "        await google.colab.output.renderOutput(dataTable, element);\n",
              "        const docLink = document.createElement('div');\n",
              "        docLink.innerHTML = docLinkHtml;\n",
              "        element.appendChild(docLink);\n",
              "      }\n",
              "    </script>\n",
              "  </div>\n",
              "\n",
              "\n",
              "<div id=\"df-33ea0056-3d52-4120-8e9c-ca4c25579650\">\n",
              "  <button class=\"colab-df-quickchart\" onclick=\"quickchart('df-33ea0056-3d52-4120-8e9c-ca4c25579650')\"\n",
              "            title=\"Suggest charts\"\n",
              "            style=\"display:none;\">\n",
              "\n",
              "<svg xmlns=\"http://www.w3.org/2000/svg\" height=\"24px\"viewBox=\"0 0 24 24\"\n",
              "     width=\"24px\">\n",
              "    <g>\n",
              "        <path d=\"M19 3H5c-1.1 0-2 .9-2 2v14c0 1.1.9 2 2 2h14c1.1 0 2-.9 2-2V5c0-1.1-.9-2-2-2zM9 17H7v-7h2v7zm4 0h-2V7h2v10zm4 0h-2v-4h2v4z\"/>\n",
              "    </g>\n",
              "</svg>\n",
              "  </button>\n",
              "\n",
              "<style>\n",
              "  .colab-df-quickchart {\n",
              "      --bg-color: #E8F0FE;\n",
              "      --fill-color: #1967D2;\n",
              "      --hover-bg-color: #E2EBFA;\n",
              "      --hover-fill-color: #174EA6;\n",
              "      --disabled-fill-color: #AAA;\n",
              "      --disabled-bg-color: #DDD;\n",
              "  }\n",
              "\n",
              "  [theme=dark] .colab-df-quickchart {\n",
              "      --bg-color: #3B4455;\n",
              "      --fill-color: #D2E3FC;\n",
              "      --hover-bg-color: #434B5C;\n",
              "      --hover-fill-color: #FFFFFF;\n",
              "      --disabled-bg-color: #3B4455;\n",
              "      --disabled-fill-color: #666;\n",
              "  }\n",
              "\n",
              "  .colab-df-quickchart {\n",
              "    background-color: var(--bg-color);\n",
              "    border: none;\n",
              "    border-radius: 50%;\n",
              "    cursor: pointer;\n",
              "    display: none;\n",
              "    fill: var(--fill-color);\n",
              "    height: 32px;\n",
              "    padding: 0;\n",
              "    width: 32px;\n",
              "  }\n",
              "\n",
              "  .colab-df-quickchart:hover {\n",
              "    background-color: var(--hover-bg-color);\n",
              "    box-shadow: 0 1px 2px rgba(60, 64, 67, 0.3), 0 1px 3px 1px rgba(60, 64, 67, 0.15);\n",
              "    fill: var(--button-hover-fill-color);\n",
              "  }\n",
              "\n",
              "  .colab-df-quickchart-complete:disabled,\n",
              "  .colab-df-quickchart-complete:disabled:hover {\n",
              "    background-color: var(--disabled-bg-color);\n",
              "    fill: var(--disabled-fill-color);\n",
              "    box-shadow: none;\n",
              "  }\n",
              "\n",
              "  .colab-df-spinner {\n",
              "    border: 2px solid var(--fill-color);\n",
              "    border-color: transparent;\n",
              "    border-bottom-color: var(--fill-color);\n",
              "    animation:\n",
              "      spin 1s steps(1) infinite;\n",
              "  }\n",
              "\n",
              "  @keyframes spin {\n",
              "    0% {\n",
              "      border-color: transparent;\n",
              "      border-bottom-color: var(--fill-color);\n",
              "      border-left-color: var(--fill-color);\n",
              "    }\n",
              "    20% {\n",
              "      border-color: transparent;\n",
              "      border-left-color: var(--fill-color);\n",
              "      border-top-color: var(--fill-color);\n",
              "    }\n",
              "    30% {\n",
              "      border-color: transparent;\n",
              "      border-left-color: var(--fill-color);\n",
              "      border-top-color: var(--fill-color);\n",
              "      border-right-color: var(--fill-color);\n",
              "    }\n",
              "    40% {\n",
              "      border-color: transparent;\n",
              "      border-right-color: var(--fill-color);\n",
              "      border-top-color: var(--fill-color);\n",
              "    }\n",
              "    60% {\n",
              "      border-color: transparent;\n",
              "      border-right-color: var(--fill-color);\n",
              "    }\n",
              "    80% {\n",
              "      border-color: transparent;\n",
              "      border-right-color: var(--fill-color);\n",
              "      border-bottom-color: var(--fill-color);\n",
              "    }\n",
              "    90% {\n",
              "      border-color: transparent;\n",
              "      border-bottom-color: var(--fill-color);\n",
              "    }\n",
              "  }\n",
              "</style>\n",
              "\n",
              "  <script>\n",
              "    async function quickchart(key) {\n",
              "      const quickchartButtonEl =\n",
              "        document.querySelector('#' + key + ' button');\n",
              "      quickchartButtonEl.disabled = true;  // To prevent multiple clicks.\n",
              "      quickchartButtonEl.classList.add('colab-df-spinner');\n",
              "      try {\n",
              "        const charts = await google.colab.kernel.invokeFunction(\n",
              "            'suggestCharts', [key], {});\n",
              "      } catch (error) {\n",
              "        console.error('Error during call to suggestCharts:', error);\n",
              "      }\n",
              "      quickchartButtonEl.classList.remove('colab-df-spinner');\n",
              "      quickchartButtonEl.classList.add('colab-df-quickchart-complete');\n",
              "    }\n",
              "    (() => {\n",
              "      let quickchartButtonEl =\n",
              "        document.querySelector('#df-33ea0056-3d52-4120-8e9c-ca4c25579650 button');\n",
              "      quickchartButtonEl.style.display =\n",
              "        google.colab.kernel.accessAllowed ? 'block' : 'none';\n",
              "    })();\n",
              "  </script>\n",
              "</div>\n",
              "\n",
              "  <div id=\"id_0857e002-b99e-4836-9b98-a05911221fe8\">\n",
              "    <style>\n",
              "      .colab-df-generate {\n",
              "        background-color: #E8F0FE;\n",
              "        border: none;\n",
              "        border-radius: 50%;\n",
              "        cursor: pointer;\n",
              "        display: none;\n",
              "        fill: #1967D2;\n",
              "        height: 32px;\n",
              "        padding: 0 0 0 0;\n",
              "        width: 32px;\n",
              "      }\n",
              "\n",
              "      .colab-df-generate:hover {\n",
              "        background-color: #E2EBFA;\n",
              "        box-shadow: 0px 1px 2px rgba(60, 64, 67, 0.3), 0px 1px 3px 1px rgba(60, 64, 67, 0.15);\n",
              "        fill: #174EA6;\n",
              "      }\n",
              "\n",
              "      [theme=dark] .colab-df-generate {\n",
              "        background-color: #3B4455;\n",
              "        fill: #D2E3FC;\n",
              "      }\n",
              "\n",
              "      [theme=dark] .colab-df-generate:hover {\n",
              "        background-color: #434B5C;\n",
              "        box-shadow: 0px 1px 3px 1px rgba(0, 0, 0, 0.15);\n",
              "        filter: drop-shadow(0px 1px 2px rgba(0, 0, 0, 0.3));\n",
              "        fill: #FFFFFF;\n",
              "      }\n",
              "    </style>\n",
              "    <button class=\"colab-df-generate\" onclick=\"generateWithVariable('res')\"\n",
              "            title=\"Generate code using this dataframe.\"\n",
              "            style=\"display:none;\">\n",
              "\n",
              "  <svg xmlns=\"http://www.w3.org/2000/svg\" height=\"24px\"viewBox=\"0 0 24 24\"\n",
              "       width=\"24px\">\n",
              "    <path d=\"M7,19H8.4L18.45,9,17,7.55,7,17.6ZM5,21V16.75L18.45,3.32a2,2,0,0,1,2.83,0l1.4,1.43a1.91,1.91,0,0,1,.58,1.4,1.91,1.91,0,0,1-.58,1.4L9.25,21ZM18.45,9,17,7.55Zm-12,3A5.31,5.31,0,0,0,4.9,8.1,5.31,5.31,0,0,0,1,6.5,5.31,5.31,0,0,0,4.9,4.9,5.31,5.31,0,0,0,6.5,1,5.31,5.31,0,0,0,8.1,4.9,5.31,5.31,0,0,0,12,6.5,5.46,5.46,0,0,0,6.5,12Z\"/>\n",
              "  </svg>\n",
              "    </button>\n",
              "    <script>\n",
              "      (() => {\n",
              "      const buttonEl =\n",
              "        document.querySelector('#id_0857e002-b99e-4836-9b98-a05911221fe8 button.colab-df-generate');\n",
              "      buttonEl.style.display =\n",
              "        google.colab.kernel.accessAllowed ? 'block' : 'none';\n",
              "\n",
              "      buttonEl.onclick = () => {\n",
              "        google.colab.notebook.generateWithVariable('res');\n",
              "      }\n",
              "      })();\n",
              "    </script>\n",
              "  </div>\n",
              "\n",
              "    </div>\n",
              "  </div>\n"
            ],
            "application/vnd.google.colaboratory.intrinsic+json": {
              "type": "dataframe",
              "variable_name": "res",
              "summary": "{\n  \"name\": \"res\",\n  \"rows\": 5,\n  \"fields\": [\n    {\n      \"column\": \"id\",\n      \"properties\": {\n        \"dtype\": \"number\",\n        \"std\": 16369,\n        \"min\": 12724,\n        \"max\": 49061,\n        \"num_unique_values\": 5,\n        \"samples\": [\n          39978,\n          49061,\n          13361\n        ],\n        \"semantic_type\": \"\",\n        \"description\": \"\"\n      }\n    },\n    {\n      \"column\": \"masterCategory\",\n      \"properties\": {\n        \"dtype\": \"category\",\n        \"num_unique_values\": 1,\n        \"samples\": [\n          \"Footwear\"\n        ],\n        \"semantic_type\": \"\",\n        \"description\": \"\"\n      }\n    },\n    {\n      \"column\": \"subCategory\",\n      \"properties\": {\n        \"dtype\": \"category\",\n        \"num_unique_values\": 1,\n        \"samples\": [\n          \"Shoes\"\n        ],\n        \"semantic_type\": \"\",\n        \"description\": \"\"\n      }\n    },\n    {\n      \"column\": \"articleType\",\n      \"properties\": {\n        \"dtype\": \"category\",\n        \"num_unique_values\": 1,\n        \"samples\": [\n          \"Casual Shoes\"\n        ],\n        \"semantic_type\": \"\",\n        \"description\": \"\"\n      }\n    },\n    {\n      \"column\": \"filename\",\n      \"properties\": {\n        \"dtype\": \"string\",\n        \"num_unique_values\": 5,\n        \"samples\": [\n          \"39978.jpg\"\n        ],\n        \"semantic_type\": \"\",\n        \"description\": \"\"\n      }\n    },\n    {\n      \"column\": \"label\",\n      \"properties\": {\n        \"dtype\": \"category\",\n        \"num_unique_values\": 1,\n        \"samples\": [\n          \"Footwear_Shoes_Casual Shoes\"\n        ],\n        \"semantic_type\": \"\",\n        \"description\": \"\"\n      }\n    }\n  ]\n}"
            }
          },
          "metadata": {},
          "execution_count": 87
        }
      ]
    },
    {
      "cell_type": "code",
      "source": [],
      "metadata": {
        "id": "YkKFOFJs8J_F"
      },
      "execution_count": null,
      "outputs": []
    }
  ],
  "metadata": {
    "colab": {
      "provenance": [],
      "gpuType": "T4"
    },
    "kernelspec": {
      "display_name": "Python 3",
      "name": "python3"
    },
    "language_info": {
      "codemirror_mode": {
        "name": "ipython",
        "version": 3
      },
      "file_extension": ".py",
      "mimetype": "text/x-python",
      "name": "python",
      "nbconvert_exporter": "python",
      "pygments_lexer": "ipython3",
      "version": "3.9.1"
    },
    "accelerator": "GPU"
  },
  "nbformat": 4,
  "nbformat_minor": 0
}